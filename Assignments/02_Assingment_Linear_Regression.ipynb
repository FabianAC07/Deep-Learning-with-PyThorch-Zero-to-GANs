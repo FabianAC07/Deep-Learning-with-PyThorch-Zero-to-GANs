{
  "nbformat": 4,
  "nbformat_minor": 0,
  "metadata": {
    "kernelspec": {
      "display_name": "Python 3",
      "language": "python",
      "name": "python3"
    },
    "language_info": {
      "codemirror_mode": {
        "name": "ipython",
        "version": 3
      },
      "file_extension": ".py",
      "mimetype": "text/x-python",
      "name": "python",
      "nbconvert_exporter": "python",
      "pygments_lexer": "ipython3",
      "version": "3.6.4"
    },
    "colab": {
      "name": "Assingment 02 - Linear Regression.ipynb",
      "provenance": [],
      "collapsed_sections": []
    },
    "widgets": {
      "application/vnd.jupyter.widget-state+json": {
        "1c286c715ec143d892c8942abed36818": {
          "model_module": "@jupyter-widgets/controls",
          "model_name": "HBoxModel",
          "state": {
            "_view_name": "HBoxView",
            "_dom_classes": [],
            "_model_name": "HBoxModel",
            "_view_module": "@jupyter-widgets/controls",
            "_model_module_version": "1.5.0",
            "_view_count": null,
            "_view_module_version": "1.5.0",
            "box_style": "",
            "layout": "IPY_MODEL_ae417d322f8c4e60b8fd707b11eac0ab",
            "_model_module": "@jupyter-widgets/controls",
            "children": [
              "IPY_MODEL_7c71b516e10048d787e814f9b2efdb01",
              "IPY_MODEL_80af18e59d10406795cf11e34af5f037"
            ]
          }
        },
        "ae417d322f8c4e60b8fd707b11eac0ab": {
          "model_module": "@jupyter-widgets/base",
          "model_name": "LayoutModel",
          "state": {
            "_view_name": "LayoutView",
            "grid_template_rows": null,
            "right": null,
            "justify_content": null,
            "_view_module": "@jupyter-widgets/base",
            "overflow": null,
            "_model_module_version": "1.2.0",
            "_view_count": null,
            "flex_flow": null,
            "width": null,
            "min_width": null,
            "border": null,
            "align_items": null,
            "bottom": null,
            "_model_module": "@jupyter-widgets/base",
            "top": null,
            "grid_column": null,
            "overflow_y": null,
            "overflow_x": null,
            "grid_auto_flow": null,
            "grid_area": null,
            "grid_template_columns": null,
            "flex": null,
            "_model_name": "LayoutModel",
            "justify_items": null,
            "grid_row": null,
            "max_height": null,
            "align_content": null,
            "visibility": null,
            "align_self": null,
            "height": null,
            "min_height": null,
            "padding": null,
            "grid_auto_rows": null,
            "grid_gap": null,
            "max_width": null,
            "order": null,
            "_view_module_version": "1.2.0",
            "grid_template_areas": null,
            "object_position": null,
            "object_fit": null,
            "grid_auto_columns": null,
            "margin": null,
            "display": null,
            "left": null
          }
        },
        "7c71b516e10048d787e814f9b2efdb01": {
          "model_module": "@jupyter-widgets/controls",
          "model_name": "FloatProgressModel",
          "state": {
            "_view_name": "ProgressView",
            "style": "IPY_MODEL_16fbb6836a324fa7ae353c93b63e1672",
            "_dom_classes": [],
            "description": "",
            "_model_name": "FloatProgressModel",
            "bar_style": "info",
            "max": 1,
            "_view_module": "@jupyter-widgets/controls",
            "_model_module_version": "1.5.0",
            "value": 1,
            "_view_count": null,
            "_view_module_version": "1.5.0",
            "orientation": "horizontal",
            "min": 0,
            "description_tooltip": null,
            "_model_module": "@jupyter-widgets/controls",
            "layout": "IPY_MODEL_b402f2f743c64184b49b22eca8479bcb"
          }
        },
        "80af18e59d10406795cf11e34af5f037": {
          "model_module": "@jupyter-widgets/controls",
          "model_name": "HTMLModel",
          "state": {
            "_view_name": "HTMLView",
            "style": "IPY_MODEL_2c8c1858b57a43718d4059b65b44fcb6",
            "_dom_classes": [],
            "description": "",
            "_model_name": "HTMLModel",
            "placeholder": "​",
            "_view_module": "@jupyter-widgets/controls",
            "_model_module_version": "1.5.0",
            "value": " 57344/? [00:20&lt;00:00, 307681.70it/s]",
            "_view_count": null,
            "_view_module_version": "1.5.0",
            "description_tooltip": null,
            "_model_module": "@jupyter-widgets/controls",
            "layout": "IPY_MODEL_5782f51f6daf4576ae9ceac8b72cb00c"
          }
        },
        "16fbb6836a324fa7ae353c93b63e1672": {
          "model_module": "@jupyter-widgets/controls",
          "model_name": "ProgressStyleModel",
          "state": {
            "_view_name": "StyleView",
            "_model_name": "ProgressStyleModel",
            "description_width": "initial",
            "_view_module": "@jupyter-widgets/base",
            "_model_module_version": "1.5.0",
            "_view_count": null,
            "_view_module_version": "1.2.0",
            "bar_color": null,
            "_model_module": "@jupyter-widgets/controls"
          }
        },
        "b402f2f743c64184b49b22eca8479bcb": {
          "model_module": "@jupyter-widgets/base",
          "model_name": "LayoutModel",
          "state": {
            "_view_name": "LayoutView",
            "grid_template_rows": null,
            "right": null,
            "justify_content": null,
            "_view_module": "@jupyter-widgets/base",
            "overflow": null,
            "_model_module_version": "1.2.0",
            "_view_count": null,
            "flex_flow": null,
            "width": null,
            "min_width": null,
            "border": null,
            "align_items": null,
            "bottom": null,
            "_model_module": "@jupyter-widgets/base",
            "top": null,
            "grid_column": null,
            "overflow_y": null,
            "overflow_x": null,
            "grid_auto_flow": null,
            "grid_area": null,
            "grid_template_columns": null,
            "flex": null,
            "_model_name": "LayoutModel",
            "justify_items": null,
            "grid_row": null,
            "max_height": null,
            "align_content": null,
            "visibility": null,
            "align_self": null,
            "height": null,
            "min_height": null,
            "padding": null,
            "grid_auto_rows": null,
            "grid_gap": null,
            "max_width": null,
            "order": null,
            "_view_module_version": "1.2.0",
            "grid_template_areas": null,
            "object_position": null,
            "object_fit": null,
            "grid_auto_columns": null,
            "margin": null,
            "display": null,
            "left": null
          }
        },
        "2c8c1858b57a43718d4059b65b44fcb6": {
          "model_module": "@jupyter-widgets/controls",
          "model_name": "DescriptionStyleModel",
          "state": {
            "_view_name": "StyleView",
            "_model_name": "DescriptionStyleModel",
            "description_width": "",
            "_view_module": "@jupyter-widgets/base",
            "_model_module_version": "1.5.0",
            "_view_count": null,
            "_view_module_version": "1.2.0",
            "_model_module": "@jupyter-widgets/controls"
          }
        },
        "5782f51f6daf4576ae9ceac8b72cb00c": {
          "model_module": "@jupyter-widgets/base",
          "model_name": "LayoutModel",
          "state": {
            "_view_name": "LayoutView",
            "grid_template_rows": null,
            "right": null,
            "justify_content": null,
            "_view_module": "@jupyter-widgets/base",
            "overflow": null,
            "_model_module_version": "1.2.0",
            "_view_count": null,
            "flex_flow": null,
            "width": null,
            "min_width": null,
            "border": null,
            "align_items": null,
            "bottom": null,
            "_model_module": "@jupyter-widgets/base",
            "top": null,
            "grid_column": null,
            "overflow_y": null,
            "overflow_x": null,
            "grid_auto_flow": null,
            "grid_area": null,
            "grid_template_columns": null,
            "flex": null,
            "_model_name": "LayoutModel",
            "justify_items": null,
            "grid_row": null,
            "max_height": null,
            "align_content": null,
            "visibility": null,
            "align_self": null,
            "height": null,
            "min_height": null,
            "padding": null,
            "grid_auto_rows": null,
            "grid_gap": null,
            "max_width": null,
            "order": null,
            "_view_module_version": "1.2.0",
            "grid_template_areas": null,
            "object_position": null,
            "object_fit": null,
            "grid_auto_columns": null,
            "margin": null,
            "display": null,
            "left": null
          }
        }
      }
    }
  },
  "cells": [
    {
      "cell_type": "markdown",
      "metadata": {
        "_cell_guid": "b1076dfc-b9ad-4769-8c92-a6c4dae69d19",
        "_uuid": "8f2839f25d086af736a60e9eeb907d3b93b6e0e5",
        "id": "vhNLReTpywK-",
        "colab_type": "text"
      },
      "source": [
        "# Insurance cost prediction using linear regression\n",
        "\n",
        "In this assignment we're going to use information like a person's age, sex, BMI, no. of children and smoking habit to predict the price of yearly medical bills. This kind of model is useful for insurance companies to determine the yearly insurance premium for a person. The dataset for this problem is taken from: https://www.kaggle.com/mirichoi0218/insurance\n",
        "\n",
        "\n",
        "We will create a model with the following steps:\n",
        "1. Download and explore the dataset\n",
        "2. Prepare the dataset for training\n",
        "3. Create a linear regression model\n",
        "4. Train the model to fit the data\n",
        "5. Make predictions using the trained model\n",
        "\n",
        "\n",
        "This assignment builds upon the concepts from the first 2 lectures. It will help to review these Jupyter notebooks:\n",
        "- PyTorch basics: https://jovian.ml/aakashns/01-pytorch-basics\n",
        "- Linear Regression: https://jovian.ml/aakashns/02-linear-regression\n",
        "- Logistic Regression: https://jovian.ml/aakashns/03-logistic-regression\n",
        "- Linear regression (minimal): https://jovian.ml/aakashns/housing-linear-minimal\n",
        "- Logistic regression (minimal): https://jovian.ml/aakashns/mnist-logistic-minimal\n",
        "\n",
        "As you go through this notebook, you will find a **???** in certain places. Your job is to replace the **???** with appropriate code or values, to ensure that the notebook runs properly end-to-end . In some cases, you'll be required to choose some hyperparameters (learning rate, batch size etc.). Try to experiment with the hypeparameters to get the lowest loss.\n"
      ]
    },
    {
      "cell_type": "code",
      "metadata": {
        "id": "3pTjqBKpywK_",
        "colab_type": "code",
        "colab": {
          "base_uri": "https://localhost:8080/",
          "height": 51
        },
        "outputId": "745338f5-b13a-4adf-8fbe-23b78161240e"
      },
      "source": [
        "# Uncomment and run the commands below if imports fail\n",
        "# !conda install numpy pytorch torchvision cpuonly -c pytorch -y\n",
        "# !pip install matplotlib --upgrade --quiet\n",
        "!pip install jovian --upgrade --quiet"
      ],
      "execution_count": 1,
      "outputs": [
        {
          "output_type": "stream",
          "text": [
            "\u001b[?25l\r\u001b[K     |████                            | 10kB 16.0MB/s eta 0:00:01\r\u001b[K     |███████▉                        | 20kB 2.1MB/s eta 0:00:01\r\u001b[K     |███████████▉                    | 30kB 2.6MB/s eta 0:00:01\r\u001b[K     |███████████████▊                | 40kB 2.9MB/s eta 0:00:01\r\u001b[K     |███████████████████▋            | 51kB 2.2MB/s eta 0:00:01\r\u001b[K     |███████████████████████▋        | 61kB 2.5MB/s eta 0:00:01\r\u001b[K     |███████████████████████████▌    | 71kB 2.7MB/s eta 0:00:01\r\u001b[K     |███████████████████████████████▍| 81kB 2.9MB/s eta 0:00:01\r\u001b[K     |████████████████████████████████| 92kB 2.6MB/s \n",
            "\u001b[?25h  Building wheel for uuid (setup.py) ... \u001b[?25l\u001b[?25hdone\n"
          ],
          "name": "stdout"
        }
      ]
    },
    {
      "cell_type": "code",
      "metadata": {
        "id": "DtKidWQVywLG",
        "colab_type": "code",
        "colab": {}
      },
      "source": [
        "import torch\n",
        "import jovian\n",
        "import torchvision\n",
        "import torch.nn as nn\n",
        "import pandas as pd\n",
        "import matplotlib.pyplot as plt\n",
        "import torch.nn.functional as F\n",
        "from torchvision.datasets.utils import download_url\n",
        "from torch.utils.data import DataLoader, TensorDataset, random_split"
      ],
      "execution_count": 0,
      "outputs": []
    },
    {
      "cell_type": "code",
      "metadata": {
        "id": "GXsS1JxzywLN",
        "colab_type": "code",
        "colab": {}
      },
      "source": [
        "project_name='02-insurance-linear-regression' # will be used by jovian.commit"
      ],
      "execution_count": 0,
      "outputs": []
    },
    {
      "cell_type": "markdown",
      "metadata": {
        "id": "BF4cc2InywLS",
        "colab_type": "text"
      },
      "source": [
        "## Step 1: Download and explore the data\n",
        "\n",
        "Let us begin by downloading the data. We'll use the `download_url` function from PyTorch to get the data as a CSV (comma-separated values) file. "
      ]
    },
    {
      "cell_type": "code",
      "metadata": {
        "_cell_guid": "79c7e3d0-c299-4dcb-8224-4455121ee9b0",
        "_uuid": "d629ff2d2480ee46fbb7e2d37f6b5fab8052498a",
        "id": "9al5M21ZywLT",
        "colab_type": "code",
        "outputId": "7cb34d39-8d2e-44e2-c127-545c7486bec3",
        "colab": {
          "base_uri": "https://localhost:8080/",
          "height": 66,
          "referenced_widgets": [
            "1c286c715ec143d892c8942abed36818",
            "ae417d322f8c4e60b8fd707b11eac0ab",
            "7c71b516e10048d787e814f9b2efdb01",
            "80af18e59d10406795cf11e34af5f037",
            "16fbb6836a324fa7ae353c93b63e1672",
            "b402f2f743c64184b49b22eca8479bcb",
            "2c8c1858b57a43718d4059b65b44fcb6",
            "5782f51f6daf4576ae9ceac8b72cb00c"
          ]
        }
      },
      "source": [
        "DATASET_URL = \"https://hub.jovian.ml/wp-content/uploads/2020/05/insurance.csv\"\n",
        "DATA_FILENAME = \"insurance.csv\"\n",
        "download_url(DATASET_URL, '.')"
      ],
      "execution_count": 4,
      "outputs": [
        {
          "output_type": "stream",
          "text": [
            "Downloading https://hub.jovian.ml/wp-content/uploads/2020/05/insurance.csv to ./insurance.csv\n"
          ],
          "name": "stdout"
        },
        {
          "output_type": "display_data",
          "data": {
            "application/vnd.jupyter.widget-view+json": {
              "model_id": "1c286c715ec143d892c8942abed36818",
              "version_minor": 0,
              "version_major": 2
            },
            "text/plain": [
              "HBox(children=(FloatProgress(value=1.0, bar_style='info', max=1.0), HTML(value='')))"
            ]
          },
          "metadata": {
            "tags": []
          }
        }
      ]
    },
    {
      "cell_type": "markdown",
      "metadata": {
        "id": "7ggkxLWQywLY",
        "colab_type": "text"
      },
      "source": [
        "To load the dataset into memory, we'll use the `read_csv` function from the `pandas` library. The data will be loaded as a Pandas dataframe. See this short tutorial to learn more: https://data36.com/pandas-tutorial-1-basics-reading-data-files-dataframes-data-selection/"
      ]
    },
    {
      "cell_type": "code",
      "metadata": {
        "id": "u5UUYHghywLZ",
        "colab_type": "code",
        "outputId": "afea7e82-e4da-4a9c-d240-8b3c03c34bf4",
        "colab": {
          "base_uri": "https://localhost:8080/",
          "height": 204
        }
      },
      "source": [
        "dataframe_raw = pd.read_csv(DATA_FILENAME)\n",
        "dataframe_raw.head()"
      ],
      "execution_count": 5,
      "outputs": [
        {
          "output_type": "execute_result",
          "data": {
            "text/html": [
              "<div>\n",
              "<style scoped>\n",
              "    .dataframe tbody tr th:only-of-type {\n",
              "        vertical-align: middle;\n",
              "    }\n",
              "\n",
              "    .dataframe tbody tr th {\n",
              "        vertical-align: top;\n",
              "    }\n",
              "\n",
              "    .dataframe thead th {\n",
              "        text-align: right;\n",
              "    }\n",
              "</style>\n",
              "<table border=\"1\" class=\"dataframe\">\n",
              "  <thead>\n",
              "    <tr style=\"text-align: right;\">\n",
              "      <th></th>\n",
              "      <th>age</th>\n",
              "      <th>sex</th>\n",
              "      <th>bmi</th>\n",
              "      <th>children</th>\n",
              "      <th>smoker</th>\n",
              "      <th>region</th>\n",
              "      <th>charges</th>\n",
              "    </tr>\n",
              "  </thead>\n",
              "  <tbody>\n",
              "    <tr>\n",
              "      <th>0</th>\n",
              "      <td>19</td>\n",
              "      <td>female</td>\n",
              "      <td>27.900</td>\n",
              "      <td>0</td>\n",
              "      <td>yes</td>\n",
              "      <td>southwest</td>\n",
              "      <td>16884.92400</td>\n",
              "    </tr>\n",
              "    <tr>\n",
              "      <th>1</th>\n",
              "      <td>18</td>\n",
              "      <td>male</td>\n",
              "      <td>33.770</td>\n",
              "      <td>1</td>\n",
              "      <td>no</td>\n",
              "      <td>southeast</td>\n",
              "      <td>1725.55230</td>\n",
              "    </tr>\n",
              "    <tr>\n",
              "      <th>2</th>\n",
              "      <td>28</td>\n",
              "      <td>male</td>\n",
              "      <td>33.000</td>\n",
              "      <td>3</td>\n",
              "      <td>no</td>\n",
              "      <td>southeast</td>\n",
              "      <td>4449.46200</td>\n",
              "    </tr>\n",
              "    <tr>\n",
              "      <th>3</th>\n",
              "      <td>33</td>\n",
              "      <td>male</td>\n",
              "      <td>22.705</td>\n",
              "      <td>0</td>\n",
              "      <td>no</td>\n",
              "      <td>northwest</td>\n",
              "      <td>21984.47061</td>\n",
              "    </tr>\n",
              "    <tr>\n",
              "      <th>4</th>\n",
              "      <td>32</td>\n",
              "      <td>male</td>\n",
              "      <td>28.880</td>\n",
              "      <td>0</td>\n",
              "      <td>no</td>\n",
              "      <td>northwest</td>\n",
              "      <td>3866.85520</td>\n",
              "    </tr>\n",
              "  </tbody>\n",
              "</table>\n",
              "</div>"
            ],
            "text/plain": [
              "   age     sex     bmi  children smoker     region      charges\n",
              "0   19  female  27.900         0    yes  southwest  16884.92400\n",
              "1   18    male  33.770         1     no  southeast   1725.55230\n",
              "2   28    male  33.000         3     no  southeast   4449.46200\n",
              "3   33    male  22.705         0     no  northwest  21984.47061\n",
              "4   32    male  28.880         0     no  northwest   3866.85520"
            ]
          },
          "metadata": {
            "tags": []
          },
          "execution_count": 5
        }
      ]
    },
    {
      "cell_type": "markdown",
      "metadata": {
        "id": "NOxNHlunywLf",
        "colab_type": "text"
      },
      "source": [
        "We're going to do a slight customization of the data, so that you every participant receives a slightly different version of the dataset. Fill in your name below as a string (enter at least 5 characters)"
      ]
    },
    {
      "cell_type": "code",
      "metadata": {
        "id": "YkJWttawywLg",
        "colab_type": "code",
        "colab": {}
      },
      "source": [
        "your_name = 'fabian' # at least 5 characters"
      ],
      "execution_count": 0,
      "outputs": []
    },
    {
      "cell_type": "markdown",
      "metadata": {
        "id": "dWUlW0OwywLl",
        "colab_type": "text"
      },
      "source": [
        "The `customize_dataset` function will customize the dataset slightly using your name as a source of random numbers."
      ]
    },
    {
      "cell_type": "code",
      "metadata": {
        "id": "pSuogKFfywLm",
        "colab_type": "code",
        "colab": {}
      },
      "source": [
        "def customize_dataset(dataframe_raw, rand_str):\n",
        "    dataframe = dataframe_raw.copy(deep=True)\n",
        "    # drop some rows\n",
        "    dataframe = dataframe.sample(int(0.95*len(dataframe)), random_state=int(ord(rand_str[0])))\n",
        "    # scale input\n",
        "    dataframe.bmi = dataframe.bmi * ord(rand_str[1])/100.\n",
        "    # scale target\n",
        "    dataframe.charges = dataframe.charges * ord(rand_str[2])/100.\n",
        "    # drop column\n",
        "    if ord(rand_str[3]) % 2 == 1:\n",
        "        dataframe = dataframe.drop(['region'], axis=1)\n",
        "    return dataframe"
      ],
      "execution_count": 0,
      "outputs": []
    },
    {
      "cell_type": "code",
      "metadata": {
        "id": "3P6MOecIywLr",
        "colab_type": "code",
        "outputId": "5562b1b3-2329-4f27-8bb6-c8ca29421a34",
        "colab": {
          "base_uri": "https://localhost:8080/",
          "height": 204
        }
      },
      "source": [
        "dataframe = customize_dataset(dataframe_raw, your_name)\n",
        "dataframe.head()"
      ],
      "execution_count": 8,
      "outputs": [
        {
          "output_type": "execute_result",
          "data": {
            "text/html": [
              "<div>\n",
              "<style scoped>\n",
              "    .dataframe tbody tr th:only-of-type {\n",
              "        vertical-align: middle;\n",
              "    }\n",
              "\n",
              "    .dataframe tbody tr th {\n",
              "        vertical-align: top;\n",
              "    }\n",
              "\n",
              "    .dataframe thead th {\n",
              "        text-align: right;\n",
              "    }\n",
              "</style>\n",
              "<table border=\"1\" class=\"dataframe\">\n",
              "  <thead>\n",
              "    <tr style=\"text-align: right;\">\n",
              "      <th></th>\n",
              "      <th>age</th>\n",
              "      <th>sex</th>\n",
              "      <th>bmi</th>\n",
              "      <th>children</th>\n",
              "      <th>smoker</th>\n",
              "      <th>charges</th>\n",
              "    </tr>\n",
              "  </thead>\n",
              "  <tbody>\n",
              "    <tr>\n",
              "      <th>722</th>\n",
              "      <td>62</td>\n",
              "      <td>male</td>\n",
              "      <td>36.27800</td>\n",
              "      <td>0</td>\n",
              "      <td>no</td>\n",
              "      <td>12719.770840</td>\n",
              "    </tr>\n",
              "    <tr>\n",
              "      <th>687</th>\n",
              "      <td>40</td>\n",
              "      <td>male</td>\n",
              "      <td>40.43930</td>\n",
              "      <td>0</td>\n",
              "      <td>no</td>\n",
              "      <td>5329.974118</td>\n",
              "    </tr>\n",
              "    <tr>\n",
              "      <th>723</th>\n",
              "      <td>19</td>\n",
              "      <td>male</td>\n",
              "      <td>34.33800</td>\n",
              "      <td>0</td>\n",
              "      <td>no</td>\n",
              "      <td>1237.984020</td>\n",
              "    </tr>\n",
              "    <tr>\n",
              "      <th>1253</th>\n",
              "      <td>40</td>\n",
              "      <td>female</td>\n",
              "      <td>28.42100</td>\n",
              "      <td>4</td>\n",
              "      <td>no</td>\n",
              "      <td>15512.245295</td>\n",
              "    </tr>\n",
              "    <tr>\n",
              "      <th>1169</th>\n",
              "      <td>37</td>\n",
              "      <td>female</td>\n",
              "      <td>33.08185</td>\n",
              "      <td>1</td>\n",
              "      <td>no</td>\n",
              "      <td>5990.105891</td>\n",
              "    </tr>\n",
              "  </tbody>\n",
              "</table>\n",
              "</div>"
            ],
            "text/plain": [
              "      age     sex       bmi  children smoker       charges\n",
              "722    62    male  36.27800         0     no  12719.770840\n",
              "687    40    male  40.43930         0     no   5329.974118\n",
              "723    19    male  34.33800         0     no   1237.984020\n",
              "1253   40  female  28.42100         4     no  15512.245295\n",
              "1169   37  female  33.08185         1     no   5990.105891"
            ]
          },
          "metadata": {
            "tags": []
          },
          "execution_count": 8
        }
      ]
    },
    {
      "cell_type": "markdown",
      "metadata": {
        "id": "EQAJ1eKyywLv",
        "colab_type": "text"
      },
      "source": [
        "Let us answer some basic questions about the dataset. \n",
        "\n",
        "\n",
        "**Q: How many rows does the dataset have?**"
      ]
    },
    {
      "cell_type": "code",
      "metadata": {
        "id": "ZGoJYTszywLw",
        "colab_type": "code",
        "outputId": "e0b1e4f5-7f9a-4883-87b0-9a3b2c96ee9f",
        "colab": {
          "base_uri": "https://localhost:8080/",
          "height": 34
        }
      },
      "source": [
        "num_rows = len(dataframe.index)\n",
        "print('The number of rows on the dataset is: ', num_rows)"
      ],
      "execution_count": 9,
      "outputs": [
        {
          "output_type": "stream",
          "text": [
            "The number of rows on the dataset is:  1271\n"
          ],
          "name": "stdout"
        }
      ]
    },
    {
      "cell_type": "markdown",
      "metadata": {
        "id": "BNqLG_34ywL0",
        "colab_type": "text"
      },
      "source": [
        "**Q: How many columns doe the dataset have**"
      ]
    },
    {
      "cell_type": "code",
      "metadata": {
        "id": "8DfsJGaUywL1",
        "colab_type": "code",
        "outputId": "20ad6997-5898-4b73-8f25-22f6e18c3e01",
        "colab": {
          "base_uri": "https://localhost:8080/",
          "height": 34
        }
      },
      "source": [
        "num_cols = len(dataframe.columns)\n",
        "print('The number of columns on the dataset is: ', num_cols)"
      ],
      "execution_count": 10,
      "outputs": [
        {
          "output_type": "stream",
          "text": [
            "The number of columns on the dataset is:  6\n"
          ],
          "name": "stdout"
        }
      ]
    },
    {
      "cell_type": "markdown",
      "metadata": {
        "id": "QNZ1tKAlywL6",
        "colab_type": "text"
      },
      "source": [
        "**Q: What are the column titles of the input variables?**"
      ]
    },
    {
      "cell_type": "code",
      "metadata": {
        "id": "A_fTKaMRywL7",
        "colab_type": "code",
        "outputId": "7445178d-9896-4b61-8d94-fd6c99d9c92d",
        "colab": {
          "base_uri": "https://localhost:8080/",
          "height": 51
        }
      },
      "source": [
        "input_cols = dataframe.columns.values[:-1]\n",
        "print('The columns titles of the input variables are: ')\n",
        "print(input_cols)\n"
      ],
      "execution_count": 11,
      "outputs": [
        {
          "output_type": "stream",
          "text": [
            "The columns titles of the input variables are: \n",
            "['age' 'sex' 'bmi' 'children' 'smoker']\n"
          ],
          "name": "stdout"
        }
      ]
    },
    {
      "cell_type": "markdown",
      "metadata": {
        "id": "x-QpzqCoywL_",
        "colab_type": "text"
      },
      "source": [
        "**Q: Which of the input columns are non-numeric or categorial variables ?**\n",
        "\n",
        "Hint: `sex` is one of them. List the columns that are not numbers."
      ]
    },
    {
      "cell_type": "code",
      "metadata": {
        "id": "PEIHgAgPywMA",
        "colab_type": "code",
        "outputId": "2bcdfcde-38ca-401e-d3a1-15732934d5d3",
        "colab": {
          "base_uri": "https://localhost:8080/",
          "height": 34
        }
      },
      "source": [
        "categorical_cols = dataframe.select_dtypes(include=object).columns.values\n",
        "print('The non-numerical columns are: ', categorical_cols)"
      ],
      "execution_count": 12,
      "outputs": [
        {
          "output_type": "stream",
          "text": [
            "The non-numerical columns are:  ['sex' 'smoker']\n"
          ],
          "name": "stdout"
        }
      ]
    },
    {
      "cell_type": "markdown",
      "metadata": {
        "id": "aL5CnUbzywMD",
        "colab_type": "text"
      },
      "source": [
        "**Q: What are the column titles of output/target variable(s)?**"
      ]
    },
    {
      "cell_type": "code",
      "metadata": {
        "id": "0i2wAXjtywME",
        "colab_type": "code",
        "outputId": "10e5f002-a7c6-45aa-fab1-6bf7ade8fe3c",
        "colab": {
          "base_uri": "https://localhost:8080/",
          "height": 34
        }
      },
      "source": [
        "output_cols = dataframe.columns.values[-1:]\n",
        "print('The target column title is: ', output_cols)"
      ],
      "execution_count": 13,
      "outputs": [
        {
          "output_type": "stream",
          "text": [
            "The target column title is:  ['charges']\n"
          ],
          "name": "stdout"
        }
      ]
    },
    {
      "cell_type": "markdown",
      "metadata": {
        "id": "w40IGI1sywMH",
        "colab_type": "text"
      },
      "source": [
        "**Q: (Optional) What is the minimum, maximum and average value of the `charges` column? Can you show the distribution of values in a graph?**\n",
        "Use this data visualization cheatsheet for referece: https://jovian.ml/aakashns/dataviz-cheatsheet"
      ]
    },
    {
      "cell_type": "code",
      "metadata": {
        "id": "-dfyYONdywMI",
        "colab_type": "code",
        "colab": {
          "base_uri": "https://localhost:8080/",
          "height": 297
        },
        "outputId": "60f15eed-9ee8-45d3-f045-205d1255624f"
      },
      "source": [
        "# Write your answer here\n",
        "dataframe.describe()"
      ],
      "execution_count": 14,
      "outputs": [
        {
          "output_type": "execute_result",
          "data": {
            "text/html": [
              "<div>\n",
              "<style scoped>\n",
              "    .dataframe tbody tr th:only-of-type {\n",
              "        vertical-align: middle;\n",
              "    }\n",
              "\n",
              "    .dataframe tbody tr th {\n",
              "        vertical-align: top;\n",
              "    }\n",
              "\n",
              "    .dataframe thead th {\n",
              "        text-align: right;\n",
              "    }\n",
              "</style>\n",
              "<table border=\"1\" class=\"dataframe\">\n",
              "  <thead>\n",
              "    <tr style=\"text-align: right;\">\n",
              "      <th></th>\n",
              "      <th>age</th>\n",
              "      <th>bmi</th>\n",
              "      <th>children</th>\n",
              "      <th>charges</th>\n",
              "    </tr>\n",
              "  </thead>\n",
              "  <tbody>\n",
              "    <tr>\n",
              "      <th>count</th>\n",
              "      <td>1271.000000</td>\n",
              "      <td>1271.000000</td>\n",
              "      <td>1271.00000</td>\n",
              "      <td>1271.000000</td>\n",
              "    </tr>\n",
              "    <tr>\n",
              "      <th>mean</th>\n",
              "      <td>39.341463</td>\n",
              "      <td>29.733614</td>\n",
              "      <td>1.08812</td>\n",
              "      <td>12961.688721</td>\n",
              "    </tr>\n",
              "    <tr>\n",
              "      <th>std</th>\n",
              "      <td>14.133999</td>\n",
              "      <td>5.959141</td>\n",
              "      <td>1.19978</td>\n",
              "      <td>11738.183664</td>\n",
              "    </tr>\n",
              "    <tr>\n",
              "      <th>min</th>\n",
              "      <td>18.000000</td>\n",
              "      <td>15.481200</td>\n",
              "      <td>0.00000</td>\n",
              "      <td>1099.436422</td>\n",
              "    </tr>\n",
              "    <tr>\n",
              "      <th>25%</th>\n",
              "      <td>26.000000</td>\n",
              "      <td>25.433400</td>\n",
              "      <td>0.00000</td>\n",
              "      <td>4654.080221</td>\n",
              "    </tr>\n",
              "    <tr>\n",
              "      <th>50%</th>\n",
              "      <td>40.000000</td>\n",
              "      <td>29.395850</td>\n",
              "      <td>1.00000</td>\n",
              "      <td>9297.891316</td>\n",
              "    </tr>\n",
              "    <tr>\n",
              "      <th>75%</th>\n",
              "      <td>51.000000</td>\n",
              "      <td>33.726900</td>\n",
              "      <td>2.00000</td>\n",
              "      <td>16289.665428</td>\n",
              "    </tr>\n",
              "    <tr>\n",
              "      <th>max</th>\n",
              "      <td>64.000000</td>\n",
              "      <td>51.536100</td>\n",
              "      <td>5.00000</td>\n",
              "      <td>62495.019450</td>\n",
              "    </tr>\n",
              "  </tbody>\n",
              "</table>\n",
              "</div>"
            ],
            "text/plain": [
              "               age          bmi    children       charges\n",
              "count  1271.000000  1271.000000  1271.00000   1271.000000\n",
              "mean     39.341463    29.733614     1.08812  12961.688721\n",
              "std      14.133999     5.959141     1.19978  11738.183664\n",
              "min      18.000000    15.481200     0.00000   1099.436422\n",
              "25%      26.000000    25.433400     0.00000   4654.080221\n",
              "50%      40.000000    29.395850     1.00000   9297.891316\n",
              "75%      51.000000    33.726900     2.00000  16289.665428\n",
              "max      64.000000    51.536100     5.00000  62495.019450"
            ]
          },
          "metadata": {
            "tags": []
          },
          "execution_count": 14
        }
      ]
    },
    {
      "cell_type": "code",
      "metadata": {
        "id": "kQqUjODFD9_-",
        "colab_type": "code",
        "colab": {
          "base_uri": "https://localhost:8080/",
          "height": 282
        },
        "outputId": "cf814acd-126d-4ce6-f3b4-b25856e994fd"
      },
      "source": [
        "dataframe.charges.hist(bins=20)"
      ],
      "execution_count": 15,
      "outputs": [
        {
          "output_type": "execute_result",
          "data": {
            "text/plain": [
              "<matplotlib.axes._subplots.AxesSubplot at 0x7ff38b3eea20>"
            ]
          },
          "metadata": {
            "tags": []
          },
          "execution_count": 15
        },
        {
          "output_type": "display_data",
          "data": {
            "image/png": "[encoded data removed]",
            "text/plain": [
              "<Figure size 432x288 with 1 Axes>"
            ]
          },
          "metadata": {
            "tags": [],
            "needs_background": "light"
          }
        }
      ]
    },
    {
      "cell_type": "code",
      "metadata": {
        "id": "9nM8z-bnFXl3",
        "colab_type": "code",
        "colab": {
          "base_uri": "https://localhost:8080/",
          "height": 349
        },
        "outputId": "67599c07-14fb-4031-c0d9-b4f5aa042034"
      },
      "source": [
        "import seaborn as sns\n",
        "sns.set_style('darkgrid')\n",
        "plt.title('Distribution of Charges among People')\n",
        "sns.distplot(dataframe.charges, bins=20, kde=False);\n"
      ],
      "execution_count": 16,
      "outputs": [
        {
          "output_type": "stream",
          "text": [
            "/usr/local/lib/python3.6/dist-packages/statsmodels/tools/_testing.py:19: FutureWarning: pandas.util.testing is deprecated. Use the functions in the public API at pandas.testing instead.\n",
            "  import pandas.util.testing as tm\n"
          ],
          "name": "stderr"
        },
        {
          "output_type": "display_data",
          "data": {
            "image/png": "[encoded data removed]",
            "text/plain": [
              "<Figure size 432x288 with 1 Axes>"
            ]
          },
          "metadata": {
            "tags": []
          }
        }
      ]
    },
    {
      "cell_type": "markdown",
      "metadata": {
        "id": "IrjQ4J0nywMM",
        "colab_type": "text"
      },
      "source": [
        "Remember to commit your notebook to Jovian after every step, so that you don't lose your work."
      ]
    },
    {
      "cell_type": "code",
      "metadata": {
        "id": "F5O8f1EeywMN",
        "colab_type": "code",
        "colab": {}
      },
      "source": [
        "jovian.commit(project=project_name, environment=None)"
      ],
      "execution_count": 0,
      "outputs": []
    },
    {
      "cell_type": "markdown",
      "metadata": {
        "id": "A8goRy0uywMS",
        "colab_type": "text"
      },
      "source": [
        "## Step 2: Prepare the dataset for training\n",
        "\n",
        "We need to convert the data from the Pandas dataframe into a PyTorch tensors for training. To do this, the first step is to convert it numpy arrays. If you've filled out `input_cols`, `categorial_cols` and `output_cols` correctly, this following function will perform the conversion to numpy arrays."
      ]
    },
    {
      "cell_type": "code",
      "metadata": {
        "id": "rYMblhvnywMT",
        "colab_type": "code",
        "colab": {}
      },
      "source": [
        "def dataframe_to_arrays(dataframe):\n",
        "    # Make a copy of the original dataframe\n",
        "    dataframe1 = dataframe.copy(deep=True)\n",
        "    # Convert non-numeric categorical columns to numbers\n",
        "    for col in categorical_cols:\n",
        "        dataframe1[col] = dataframe1[col].astype('category').cat.codes\n",
        "    # Extract input & outupts as numpy arrays\n",
        "    inputs_array = dataframe1[input_cols].to_numpy()\n",
        "    targets_array = dataframe1[output_cols].to_numpy()\n",
        "    return inputs_array, targets_array"
      ],
      "execution_count": 0,
      "outputs": []
    },
    {
      "cell_type": "markdown",
      "metadata": {
        "id": "BtHHUtreywMW",
        "colab_type": "text"
      },
      "source": [
        "Read through the [Pandas documentation](https://pandas.pydata.org/pandas-docs/stable/user_guide/categorical.html) to understand how we're converting categorical variables into numbers."
      ]
    },
    {
      "cell_type": "code",
      "metadata": {
        "id": "H_XbKuxwywMX",
        "colab_type": "code",
        "outputId": "c896c9a1-bfd8-416a-a57a-361e37b93d18",
        "colab": {
          "base_uri": "https://localhost:8080/",
          "height": 255
        }
      },
      "source": [
        "inputs_array, targets_array = dataframe_to_arrays(dataframe)\n",
        "inputs_array, targets_array"
      ],
      "execution_count": 18,
      "outputs": [
        {
          "output_type": "execute_result",
          "data": {
            "text/plain": [
              "(array([[62.    ,  1.    , 36.278 ,  0.    ,  0.    ],\n",
              "        [40.    ,  1.    , 40.4393,  0.    ,  0.    ],\n",
              "        [19.    ,  1.    , 34.338 ,  0.    ,  0.    ],\n",
              "        ...,\n",
              "        [19.    ,  1.    , 20.079 ,  0.    ,  0.    ],\n",
              "        [23.    ,  0.    , 35.5699,  2.    ,  1.    ],\n",
              "        [24.    ,  0.    , 26.772 ,  0.    ,  0.    ]]),\n",
              " array([[12719.77084  ],\n",
              "        [ 5329.974118 ],\n",
              "        [ 1237.98402  ],\n",
              "        ...,\n",
              "        [ 1217.95968  ],\n",
              "        [37741.395734 ],\n",
              "        [18576.1157666]]))"
            ]
          },
          "metadata": {
            "tags": []
          },
          "execution_count": 18
        }
      ]
    },
    {
      "cell_type": "markdown",
      "metadata": {
        "id": "1S586BZUywMa",
        "colab_type": "text"
      },
      "source": [
        "**Q: Convert the numpy arrays `inputs_array` and `targets_array` into PyTorch tensors. Make sure that the data type is `torch.float32`.**"
      ]
    },
    {
      "cell_type": "code",
      "metadata": {
        "id": "WVneG4hwywMb",
        "colab_type": "code",
        "colab": {}
      },
      "source": [
        "# Import from numpy arrays to pytorch\n",
        "inputs = torch.from_numpy(inputs_array).type(torch.float32)\n",
        "targets = torch.from_numpy(targets_array).type(torch.float32)"
      ],
      "execution_count": 0,
      "outputs": []
    },
    {
      "cell_type": "code",
      "metadata": {
        "id": "aO3i-D3oywMg",
        "colab_type": "code",
        "outputId": "01634e4b-ef73-42b7-9880-318fc4ca6bea",
        "colab": {
          "base_uri": "https://localhost:8080/",
          "height": 34
        }
      },
      "source": [
        "inputs.dtype, targets.dtype"
      ],
      "execution_count": 20,
      "outputs": [
        {
          "output_type": "execute_result",
          "data": {
            "text/plain": [
              "(torch.float32, torch.float32)"
            ]
          },
          "metadata": {
            "tags": []
          },
          "execution_count": 20
        }
      ]
    },
    {
      "cell_type": "markdown",
      "metadata": {
        "id": "CVVnzXe9ywMl",
        "colab_type": "text"
      },
      "source": [
        "Next, we need to create PyTorch datasets & data loaders for training & validation. We'll start by creating a `TensorDataset`."
      ]
    },
    {
      "cell_type": "code",
      "metadata": {
        "id": "i9twCuq_ywMm",
        "colab_type": "code",
        "colab": {}
      },
      "source": [
        "dataset = TensorDataset(inputs, targets)"
      ],
      "execution_count": 0,
      "outputs": []
    },
    {
      "cell_type": "markdown",
      "metadata": {
        "id": "Ui35BeGyywMq",
        "colab_type": "text"
      },
      "source": [
        "**Q: Pick a number between `0.1` and `0.2` to determine the fraction of data that will be used for creating the validation set. Then use `random_split` to create training & validation datasets. **"
      ]
    },
    {
      "cell_type": "code",
      "metadata": {
        "id": "s6HG-hP-ywMr",
        "colab_type": "code",
        "colab": {}
      },
      "source": [
        "val_percent = 0.2 # between 0.1 and 0.2\n",
        "val_size = int(num_rows * val_percent)\n",
        "train_size = num_rows - val_size\n",
        "\n",
        "\n",
        "train_ds, val_ds = random_split(dataset, [train_size, val_size]) # Use the random_split function to split dataset into 2 parts of the desired length"
      ],
      "execution_count": 0,
      "outputs": []
    },
    {
      "cell_type": "markdown",
      "metadata": {
        "id": "NtU5YTHRywMv",
        "colab_type": "text"
      },
      "source": [
        "Finally, we can create data loaders for training & validation.\n",
        "\n",
        "**Q: Pick a batch size for the data loader.**"
      ]
    },
    {
      "cell_type": "code",
      "metadata": {
        "id": "b5jYWODsywMw",
        "colab_type": "code",
        "colab": {}
      },
      "source": [
        "batch_size = 64"
      ],
      "execution_count": 0,
      "outputs": []
    },
    {
      "cell_type": "code",
      "metadata": {
        "id": "dm3hjvVnywM0",
        "colab_type": "code",
        "colab": {}
      },
      "source": [
        "train_loader = DataLoader(train_ds, batch_size, shuffle=True)\n",
        "val_loader = DataLoader(val_ds, batch_size*2)"
      ],
      "execution_count": 0,
      "outputs": []
    },
    {
      "cell_type": "markdown",
      "metadata": {
        "id": "4wD_cdziywM4",
        "colab_type": "text"
      },
      "source": [
        "Let's look at a batch of data to verify everything is working fine so far."
      ]
    },
    {
      "cell_type": "code",
      "metadata": {
        "id": "EPDlS5MLywM4",
        "colab_type": "code",
        "outputId": "d1016a20-8ee6-4c77-f75d-3633fa4ef6d1",
        "colab": {
          "base_uri": "https://localhost:8080/",
          "height": 1000
        }
      },
      "source": [
        "for xb, yb in train_loader:\n",
        "    print(\"inputs:\", xb)\n",
        "    print(\"targets:\", yb)\n",
        "    break"
      ],
      "execution_count": 26,
      "outputs": [
        {
          "output_type": "stream",
          "text": [
            "inputs: tensor([[18.0000,  0.0000, 32.1604,  0.0000,  0.0000],\n",
            "        [30.0000,  1.0000, 36.6660,  2.0000,  1.0000],\n",
            "        [18.0000,  1.0000, 32.3301,  0.0000,  0.0000],\n",
            "        [26.0000,  0.0000, 27.9214,  0.0000,  0.0000],\n",
            "        [41.0000,  0.0000, 31.6220,  3.0000,  0.0000],\n",
            "        [19.0000,  0.0000, 17.2660,  0.0000,  0.0000],\n",
            "        [20.0000,  1.0000, 26.4810,  0.0000,  1.0000],\n",
            "        [53.0000,  1.0000, 25.6177,  2.0000,  0.0000],\n",
            "        [31.0000,  0.0000, 24.9678,  0.0000,  0.0000],\n",
            "        [45.0000,  1.0000, 22.2082,  0.0000,  1.0000],\n",
            "        [44.0000,  1.0000, 26.5780,  2.0000,  0.0000],\n",
            "        [60.0000,  0.0000, 31.4765,  0.0000,  1.0000],\n",
            "        [49.0000,  1.0000, 25.0648,  2.0000,  1.0000],\n",
            "        [49.0000,  0.0000, 41.3996,  2.0000,  0.0000],\n",
            "        [57.0000,  0.0000, 36.8600,  2.0000,  0.0000],\n",
            "        [55.0000,  0.0000, 26.1706,  0.0000,  0.0000],\n",
            "        [20.0000,  1.0000, 30.1961,  2.0000,  0.0000],\n",
            "        [18.0000,  1.0000, 33.0770,  0.0000,  0.0000],\n",
            "        [19.0000,  0.0000, 27.5480,  1.0000,  0.0000],\n",
            "        [23.0000,  1.0000, 31.7190,  3.0000,  0.0000],\n",
            "        [56.0000,  0.0000, 24.5410,  0.0000,  0.0000],\n",
            "        [60.0000,  1.0000, 27.7372,  0.0000,  0.0000],\n",
            "        [19.0000,  1.0000, 27.5480,  1.0000,  0.0000],\n",
            "        [46.0000,  0.0000, 34.4641,  0.0000,  1.0000],\n",
            "        [31.0000,  0.0000, 35.5311,  2.0000,  0.0000],\n",
            "        [53.0000,  0.0000, 32.2525,  0.0000,  0.0000],\n",
            "        [60.0000,  0.0000, 23.3139,  0.0000,  0.0000],\n",
            "        [35.0000,  1.0000, 23.6874,  3.0000,  1.0000],\n",
            "        [30.0000,  0.0000, 22.2082,  1.0000,  0.0000],\n",
            "        [26.0000,  1.0000, 31.5153,  1.0000,  0.0000],\n",
            "        [49.0000,  1.0000, 31.3310,  3.0000,  0.0000],\n",
            "        [42.0000,  0.0000, 24.5410,  1.0000,  0.0000],\n",
            "        [46.0000,  1.0000, 25.0260,  5.0000,  0.0000],\n",
            "        [29.0000,  1.0000, 33.3680,  0.0000,  1.0000],\n",
            "        [51.0000,  1.0000, 31.3310,  1.0000,  0.0000],\n",
            "        [54.0000,  0.0000, 28.0136,  2.0000,  0.0000],\n",
            "        [36.0000,  1.0000, 33.3971,  0.0000,  1.0000],\n",
            "        [39.0000,  0.0000, 30.9624,  2.0000,  0.0000],\n",
            "        [41.0000,  1.0000, 32.5435,  0.0000,  0.0000],\n",
            "        [27.0000,  0.0000, 30.4580,  0.0000,  1.0000],\n",
            "        [25.0000,  0.0000, 20.1760,  1.0000,  0.0000],\n",
            "        [20.0000,  1.0000, 32.0100,  1.0000,  0.0000],\n",
            "        [41.0000,  0.0000, 30.6520,  0.0000,  0.0000],\n",
            "        [62.0000,  0.0000, 36.9521,  2.0000,  0.0000],\n",
            "        [36.0000,  0.0000, 21.9220,  2.0000,  1.0000],\n",
            "        [28.0000,  0.0000, 36.4914,  1.0000,  0.0000],\n",
            "        [28.0000,  1.0000, 34.3719,  0.0000,  0.0000],\n",
            "        [19.0000,  1.0000, 33.8530,  0.0000,  1.0000],\n",
            "        [18.0000,  0.0000, 36.1713,  1.0000,  0.0000],\n",
            "        [63.0000,  1.0000, 34.0373,  0.0000,  1.0000],\n",
            "        [18.0000,  1.0000, 37.0249,  0.0000,  1.0000],\n",
            "        [27.0000,  1.0000, 32.6502,  0.0000,  0.0000],\n",
            "        [62.0000,  0.0000, 35.7542,  1.0000,  0.0000],\n",
            "        [35.0000,  1.0000, 37.4420,  1.0000,  0.0000],\n",
            "        [24.0000,  0.0000, 29.1970,  3.0000,  0.0000],\n",
            "        [38.0000,  1.0000, 30.0700,  1.0000,  0.0000],\n",
            "        [35.0000,  0.0000, 33.1837,  1.0000,  0.0000],\n",
            "        [18.0000,  1.0000, 24.6962,  0.0000,  0.0000],\n",
            "        [34.0000,  1.0000, 24.5410,  2.0000,  1.0000],\n",
            "        [56.0000,  1.0000, 38.4120,  0.0000,  0.0000],\n",
            "        [27.0000,  0.0000, 29.6723,  1.0000,  0.0000],\n",
            "        [64.0000,  0.0000, 30.8703,  2.0000,  0.0000],\n",
            "        [19.0000,  1.0000, 24.7883,  0.0000,  0.0000],\n",
            "        [48.0000,  1.0000, 27.1600,  1.0000,  1.0000]])\n",
            "targets: tensor([[ 2163.5435],\n",
            "        [38456.6133],\n",
            "        [ 1113.2219],\n",
            "        [ 3317.6912],\n",
            "        [ 7795.4268],\n",
            "        [ 1693.2292],\n",
            "        [15908.1904],\n",
            "        [11019.4893],\n",
            "        [ 3681.4893],\n",
            "        [34367.9883],\n",
            "        [ 7572.3169],\n",
            "        [44108.7773],\n",
            "        [23331.0957],\n",
            "        [ 9604.8701],\n",
            "        [12393.2832],\n",
            "        [10860.9258],\n",
            "        [ 2515.1414],\n",
            "        [ 1114.2708],\n",
            "        [ 2284.8887],\n",
            "        [ 3519.6504],\n",
            "        [10849.1240],\n",
            "        [29654.7949],\n",
            "        [ 1805.6686],\n",
            "        [41269.4297],\n",
            "        [ 4850.7637],\n",
            "        [10353.5869],\n",
            "        [12751.9648],\n",
            "        [18974.7598],\n",
            "        [ 4625.1338],\n",
            "        [ 3420.7380],\n",
            "        [10064.0703],\n",
            "        [ 6904.5889],\n",
            "        [ 9895.0303],\n",
            "        [35473.7461],\n",
            "        [ 9764.7783],\n",
            "        [11854.7178],\n",
            "        [36987.7227],\n",
            "        [ 7065.3018],\n",
            "        [ 5585.8408],\n",
            "        [34142.0938],\n",
            "        [ 3144.6113],\n",
            "        [ 1940.4686],\n",
            "        [ 6062.4043],\n",
            "        [14925.7178],\n",
            "        [18236.0977],\n",
            "        [ 3691.5461],\n",
            "        [ 3203.4697],\n",
            "        [34132.0820],\n",
            "        [ 2175.0562],\n",
            "        [46114.4219],\n",
            "        [35581.6406],\n",
            "        [ 2448.4460],\n",
            "        [30987.6016],\n",
            "        [ 4667.0825],\n",
            "        [ 4150.2285],\n",
            "        [ 5378.4966],\n",
            "        [ 5140.3223],\n",
            "        [ 1673.8414],\n",
            "        [18593.0449],\n",
            "        [10389.3838],\n",
            "        [16460.4844],\n",
            "        [15747.7031],\n",
            "        [ 1599.9132],\n",
            "        [23096.9062]])\n"
          ],
          "name": "stdout"
        }
      ]
    },
    {
      "cell_type": "markdown",
      "metadata": {
        "id": "OBkZQtKIywM7",
        "colab_type": "text"
      },
      "source": [
        "Let's save our work by committing to Jovian."
      ]
    },
    {
      "cell_type": "code",
      "metadata": {
        "id": "_aDfGp13ywM8",
        "colab_type": "code",
        "colab": {}
      },
      "source": [
        "jovian.commit(project=project_name, environment=None)"
      ],
      "execution_count": 0,
      "outputs": []
    },
    {
      "cell_type": "markdown",
      "metadata": {
        "id": "MkH3w6wbywM_",
        "colab_type": "text"
      },
      "source": [
        "## Step 3: Create a Linear Regression Model\n",
        "\n",
        "Our model itself is a fairly straightforward linear regression (we'll build more complex models in the next assignment). \n"
      ]
    },
    {
      "cell_type": "code",
      "metadata": {
        "id": "zbm22gZnywNA",
        "colab_type": "code",
        "outputId": "eac31840-4681-4bfb-fb6a-61c5a6b308dd",
        "colab": {
          "base_uri": "https://localhost:8080/",
          "height": 51
        }
      },
      "source": [
        "input_size = len(input_cols)\n",
        "output_size = len(output_cols)\n",
        "input_cols, output_cols"
      ],
      "execution_count": 27,
      "outputs": [
        {
          "output_type": "execute_result",
          "data": {
            "text/plain": [
              "(array(['age', 'sex', 'bmi', 'children', 'smoker'], dtype=object),\n",
              " array(['charges'], dtype=object))"
            ]
          },
          "metadata": {
            "tags": []
          },
          "execution_count": 27
        }
      ]
    },
    {
      "cell_type": "markdown",
      "metadata": {
        "id": "KhY9-kbCywNE",
        "colab_type": "text"
      },
      "source": [
        "**Q: Complete the class definition below by filling out the constructor (`__init__`), `forward`, `training_step` and `validation_step` methods.**\n",
        "\n",
        "Hint: Think carefully about picking a good loss fuction (it's not cross entropy). Maybe try 2-3 of them and see which one works best. See https://pytorch.org/docs/stable/nn.functional.html#loss-functions"
      ]
    },
    {
      "cell_type": "code",
      "metadata": {
        "id": "KAu7MEPSywNF",
        "colab_type": "code",
        "colab": {}
      },
      "source": [
        "class InsuranceModel(nn.Module):\n",
        "    def __init__(self):\n",
        "        super().__init__()\n",
        "        self.linear = nn.Linear(input_size, output_size)                  # fill this (hint: use input_size & output_size defined above)\n",
        "        \n",
        "    def forward(self, xb):\n",
        "        out = self.linear(xb)                          # fill this\n",
        "        return out\n",
        "    \n",
        "    def training_step(self, batch):\n",
        "        inputs, targets = batch \n",
        "        # Generate predictions\n",
        "        out = self(inputs)          \n",
        "        # Calcuate loss\n",
        "        loss = F.l1_loss(out, targets)                          # fill this\n",
        "        return loss\n",
        "    \n",
        "    def validation_step(self, batch):\n",
        "        inputs, targets = batch\n",
        "        # Generate predictions\n",
        "        out = self(inputs)\n",
        "        # Calculate loss\n",
        "        loss = F.l1_loss(out, targets)                           # fill this    \n",
        "        return {'val_loss': loss.detach()}\n",
        "        \n",
        "    def validation_epoch_end(self, outputs):\n",
        "        batch_losses = [x['val_loss'] for x in outputs]\n",
        "        epoch_loss = torch.stack(batch_losses).mean()   # Combine losses\n",
        "        return {'val_loss': epoch_loss.item()}\n",
        "    \n",
        "    def epoch_end(self, epoch, result, num_epochs):\n",
        "        # Print result every 20th epoch\n",
        "        if (epoch+1) % 20 == 0 or epoch == num_epochs-1:\n",
        "            print(\"Epoch [{}], val_loss: {:.4f}\".format(epoch+1, result['val_loss']))"
      ],
      "execution_count": 0,
      "outputs": []
    },
    {
      "cell_type": "markdown",
      "metadata": {
        "id": "2HxqrUdcywNJ",
        "colab_type": "text"
      },
      "source": [
        "Let us create a model using the `InsuranceModel` class. You may need to come back later and re-run the next cell to reinitialize the model, in case the loss becomes `nan` or `infinity`."
      ]
    },
    {
      "cell_type": "code",
      "metadata": {
        "id": "HHIq3Q5VywNK",
        "colab_type": "code",
        "colab": {}
      },
      "source": [
        "model = InsuranceModel()"
      ],
      "execution_count": 0,
      "outputs": []
    },
    {
      "cell_type": "markdown",
      "metadata": {
        "id": "ip6zxqI6ywNN",
        "colab_type": "text"
      },
      "source": [
        "Let's check out the weights and biases of the model using `model.parameters`."
      ]
    },
    {
      "cell_type": "code",
      "metadata": {
        "id": "LrOifINbywNO",
        "colab_type": "code",
        "outputId": "1002020e-c132-450a-b48d-5e4104f35745",
        "colab": {
          "base_uri": "https://localhost:8080/",
          "height": 85
        }
      },
      "source": [
        "list(model.parameters())"
      ],
      "execution_count": 49,
      "outputs": [
        {
          "output_type": "execute_result",
          "data": {
            "text/plain": [
              "[Parameter containing:\n",
              " tensor([[-0.0231, -0.3502,  0.2735, -0.0855,  0.3222]], requires_grad=True),\n",
              " Parameter containing:\n",
              " tensor([-0.4010], requires_grad=True)]"
            ]
          },
          "metadata": {
            "tags": []
          },
          "execution_count": 49
        }
      ]
    },
    {
      "cell_type": "markdown",
      "metadata": {
        "id": "yKybMVbYywNR",
        "colab_type": "text"
      },
      "source": [
        "One final commit before we train the model."
      ]
    },
    {
      "cell_type": "code",
      "metadata": {
        "id": "JRjszl1vywNS",
        "colab_type": "code",
        "colab": {}
      },
      "source": [
        "jovian.commit(project=project_name, environment=None)"
      ],
      "execution_count": 0,
      "outputs": []
    },
    {
      "cell_type": "markdown",
      "metadata": {
        "id": "OD_xQbwqywNU",
        "colab_type": "text"
      },
      "source": [
        "## Step 4: Train the model to fit the data\n",
        "\n",
        "To train our model, we'll use the same `fit` function explained in the lecture. That's the benefit of defining a generic training loop - you can use it for any problem."
      ]
    },
    {
      "cell_type": "code",
      "metadata": {
        "id": "A8d51ZsuywNV",
        "colab_type": "code",
        "colab": {}
      },
      "source": [
        "def evaluate(model, val_loader):\n",
        "    outputs = [model.validation_step(batch) for batch in val_loader]\n",
        "    return model.validation_epoch_end(outputs)\n",
        "\n",
        "def fit(epochs, lr, model, train_loader, val_loader, opt_func=torch.optim.SGD):\n",
        "    history = []\n",
        "    optimizer = opt_func(model.parameters(), lr)\n",
        "    for epoch in range(epochs):\n",
        "        # Training Phase \n",
        "        for batch in train_loader:\n",
        "            loss = model.training_step(batch)\n",
        "            loss.backward()\n",
        "            optimizer.step()\n",
        "            optimizer.zero_grad()\n",
        "        # Validation phase\n",
        "        result = evaluate(model, val_loader)\n",
        "        model.epoch_end(epoch, result, epochs)\n",
        "        history.append(result)\n",
        "    return history"
      ],
      "execution_count": 0,
      "outputs": []
    },
    {
      "cell_type": "markdown",
      "metadata": {
        "id": "FE5GVL2jywNY",
        "colab_type": "text"
      },
      "source": [
        "**Q: Use the `evaluate` function to calculate the loss on the validation set before training.**"
      ]
    },
    {
      "cell_type": "code",
      "metadata": {
        "id": "4LpAA-9BWLYO",
        "colab_type": "code",
        "colab": {
          "base_uri": "https://localhost:8080/",
          "height": 68
        },
        "outputId": "2e8b0a15-251a-41a3-a740-1a3897dae19d"
      },
      "source": [
        "print(model)"
      ],
      "execution_count": 32,
      "outputs": [
        {
          "output_type": "stream",
          "text": [
            "InsuranceModel(\n",
            "  (linear): Linear(in_features=5, out_features=1, bias=True)\n",
            ")\n"
          ],
          "name": "stdout"
        }
      ]
    },
    {
      "cell_type": "code",
      "metadata": {
        "id": "oiLV6rrnywNY",
        "colab_type": "code",
        "outputId": "be0e7b91-4dd5-4a30-8c40-4bd87e3c1ac8",
        "colab": {
          "base_uri": "https://localhost:8080/",
          "height": 34
        }
      },
      "source": [
        "result = evaluate(model, val_loader) # Use the the evaluate function\n",
        "print(result)"
      ],
      "execution_count": 51,
      "outputs": [
        {
          "output_type": "stream",
          "text": [
            "{'val_loss': 13553.74609375}\n"
          ],
          "name": "stdout"
        }
      ]
    },
    {
      "cell_type": "markdown",
      "metadata": {
        "id": "NGkM-PBQywNd",
        "colab_type": "text"
      },
      "source": [
        "\n",
        "We are now ready to train the model. You may need to run the training loop many times, for different number of epochs and with different learning rates, to get a good result. Also, if your loss becomes too large (or `nan`), you may have to re-initialize the model by running the cell `model = InsuranceModel()`. Experiment with this for a while, and try to get to as low a loss as possible."
      ]
    },
    {
      "cell_type": "markdown",
      "metadata": {
        "id": "ICaxG31IywNd",
        "colab_type": "text"
      },
      "source": [
        "**Q: Train the model 4-5 times with different learning rates & for different number of epochs.**\n",
        "\n",
        "Hint: Vary learning rates by orders of 10 (e.g. `1e-2`, `1e-3`, `1e-4`, `1e-5`, `1e-6`) to figure out what works."
      ]
    },
    {
      "cell_type": "code",
      "metadata": {
        "id": "383fa8SOywNe",
        "colab_type": "code",
        "outputId": "8314e8da-36c5-48bb-a483-ac1c595578a7",
        "colab": {
          "base_uri": "https://localhost:8080/",
          "height": 867
        }
      },
      "source": [
        "epochs = 1000\n",
        "lr = 1e-4\n",
        "history1 = fit(epochs, lr, model, train_loader, val_loader)"
      ],
      "execution_count": 52,
      "outputs": [
        {
          "output_type": "stream",
          "text": [
            "Epoch [20], val_loss: 13475.4482\n",
            "Epoch [40], val_loss: 13397.1494\n",
            "Epoch [60], val_loss: 13318.8457\n",
            "Epoch [80], val_loss: 13240.5430\n",
            "Epoch [100], val_loss: 13162.2422\n",
            "Epoch [120], val_loss: 13083.9434\n",
            "Epoch [140], val_loss: 13005.6406\n",
            "Epoch [160], val_loss: 12927.3418\n",
            "Epoch [180], val_loss: 12849.0449\n",
            "Epoch [200], val_loss: 12770.7441\n",
            "Epoch [220], val_loss: 12692.4434\n",
            "Epoch [240], val_loss: 12614.1465\n",
            "Epoch [260], val_loss: 12535.8438\n",
            "Epoch [280], val_loss: 12457.5449\n",
            "Epoch [300], val_loss: 12379.2441\n",
            "Epoch [320], val_loss: 12300.9805\n",
            "Epoch [340], val_loss: 12222.8184\n",
            "Epoch [360], val_loss: 12144.6934\n",
            "Epoch [380], val_loss: 12067.3232\n",
            "Epoch [400], val_loss: 11990.2012\n",
            "Epoch [420], val_loss: 11913.3164\n",
            "Epoch [440], val_loss: 11836.7021\n",
            "Epoch [460], val_loss: 11760.4404\n",
            "Epoch [480], val_loss: 11684.2500\n",
            "Epoch [500], val_loss: 11608.5137\n",
            "Epoch [520], val_loss: 11533.5605\n",
            "Epoch [540], val_loss: 11458.8867\n",
            "Epoch [560], val_loss: 11384.6699\n",
            "Epoch [580], val_loss: 11310.9531\n",
            "Epoch [600], val_loss: 11237.7744\n",
            "Epoch [620], val_loss: 11164.7402\n",
            "Epoch [640], val_loss: 11093.2666\n",
            "Epoch [660], val_loss: 11022.4854\n",
            "Epoch [680], val_loss: 10952.2227\n",
            "Epoch [700], val_loss: 10883.3477\n",
            "Epoch [720], val_loss: 10815.3613\n",
            "Epoch [740], val_loss: 10748.1816\n",
            "Epoch [760], val_loss: 10682.5586\n",
            "Epoch [780], val_loss: 10617.9199\n",
            "Epoch [800], val_loss: 10554.5020\n",
            "Epoch [820], val_loss: 10492.2910\n",
            "Epoch [840], val_loss: 10430.7275\n",
            "Epoch [860], val_loss: 10369.8154\n",
            "Epoch [880], val_loss: 10309.5254\n",
            "Epoch [900], val_loss: 10249.7402\n",
            "Epoch [920], val_loss: 10190.6211\n",
            "Epoch [940], val_loss: 10132.1641\n",
            "Epoch [960], val_loss: 10074.6895\n",
            "Epoch [980], val_loss: 10018.2188\n",
            "Epoch [1000], val_loss: 9962.8604\n"
          ],
          "name": "stdout"
        }
      ]
    },
    {
      "cell_type": "code",
      "metadata": {
        "id": "jFuRN7f1ywNi",
        "colab_type": "code",
        "outputId": "18358de1-4988-4efb-a01e-5dd950d55628",
        "colab": {
          "base_uri": "https://localhost:8080/",
          "height": 867
        }
      },
      "source": [
        "epochs = 1000\n",
        "lr = 1e-2\n",
        "history2 = fit(epochs, lr, model, train_loader, val_loader)"
      ],
      "execution_count": 53,
      "outputs": [
        {
          "output_type": "stream",
          "text": [
            "Epoch [20], val_loss: 7657.4648\n",
            "Epoch [40], val_loss: 7499.7197\n",
            "Epoch [60], val_loss: 7455.1768\n",
            "Epoch [80], val_loss: 7417.1582\n",
            "Epoch [100], val_loss: 7381.5039\n",
            "Epoch [120], val_loss: 7346.8115\n",
            "Epoch [140], val_loss: 7314.0674\n",
            "Epoch [160], val_loss: 7283.4990\n",
            "Epoch [180], val_loss: 7254.3384\n",
            "Epoch [200], val_loss: 7225.5361\n",
            "Epoch [220], val_loss: 7198.2505\n",
            "Epoch [240], val_loss: 7175.1509\n",
            "Epoch [260], val_loss: 7154.4297\n",
            "Epoch [280], val_loss: 7134.3896\n",
            "Epoch [300], val_loss: 7117.7461\n",
            "Epoch [320], val_loss: 7104.9004\n",
            "Epoch [340], val_loss: 7096.4375\n",
            "Epoch [360], val_loss: 7090.2905\n",
            "Epoch [380], val_loss: 7086.5215\n",
            "Epoch [400], val_loss: 7083.3906\n",
            "Epoch [420], val_loss: 7081.4790\n",
            "Epoch [440], val_loss: 7080.0078\n",
            "Epoch [460], val_loss: 7079.0176\n",
            "Epoch [480], val_loss: 7078.7197\n",
            "Epoch [500], val_loss: 7078.3394\n",
            "Epoch [520], val_loss: 7077.7734\n",
            "Epoch [540], val_loss: 7077.5547\n",
            "Epoch [560], val_loss: 7077.8687\n",
            "Epoch [580], val_loss: 7077.9863\n",
            "Epoch [600], val_loss: 7078.1909\n",
            "Epoch [620], val_loss: 7078.0371\n",
            "Epoch [640], val_loss: 7078.0474\n",
            "Epoch [660], val_loss: 7077.4419\n",
            "Epoch [680], val_loss: 7077.2588\n",
            "Epoch [700], val_loss: 7076.8472\n",
            "Epoch [720], val_loss: 7076.1816\n",
            "Epoch [740], val_loss: 7075.8477\n",
            "Epoch [760], val_loss: 7075.5439\n",
            "Epoch [780], val_loss: 7075.4980\n",
            "Epoch [800], val_loss: 7075.2002\n",
            "Epoch [820], val_loss: 7075.3789\n",
            "Epoch [840], val_loss: 7074.9482\n",
            "Epoch [860], val_loss: 7074.8115\n",
            "Epoch [880], val_loss: 7074.8438\n",
            "Epoch [900], val_loss: 7074.6763\n",
            "Epoch [920], val_loss: 7074.0752\n",
            "Epoch [940], val_loss: 7073.6699\n",
            "Epoch [960], val_loss: 7073.2900\n",
            "Epoch [980], val_loss: 7072.7700\n",
            "Epoch [1000], val_loss: 7072.5869\n"
          ],
          "name": "stdout"
        }
      ]
    },
    {
      "cell_type": "code",
      "metadata": {
        "id": "iZkWu68LywNl",
        "colab_type": "code",
        "outputId": "55bb9697-d2e7-4872-85ba-4304bd0b2b9f",
        "colab": {
          "base_uri": "https://localhost:8080/",
          "height": 867
        }
      },
      "source": [
        "epochs = 1000\n",
        "lr = 5e-1\n",
        "history3 = fit(epochs, lr, model, train_loader, val_loader)"
      ],
      "execution_count": 54,
      "outputs": [
        {
          "output_type": "stream",
          "text": [
            "Epoch [20], val_loss: 7071.9561\n",
            "Epoch [40], val_loss: 7043.0234\n",
            "Epoch [60], val_loss: 7024.7290\n",
            "Epoch [80], val_loss: 7007.8423\n",
            "Epoch [100], val_loss: 7013.8643\n",
            "Epoch [120], val_loss: 6986.7788\n",
            "Epoch [140], val_loss: 6977.8584\n",
            "Epoch [160], val_loss: 7032.0693\n",
            "Epoch [180], val_loss: 6979.8550\n",
            "Epoch [200], val_loss: 6947.1348\n",
            "Epoch [220], val_loss: 6939.8018\n",
            "Epoch [240], val_loss: 6931.2817\n",
            "Epoch [260], val_loss: 6920.8682\n",
            "Epoch [280], val_loss: 6914.5791\n",
            "Epoch [300], val_loss: 6902.9253\n",
            "Epoch [320], val_loss: 6894.7539\n",
            "Epoch [340], val_loss: 6896.7236\n",
            "Epoch [360], val_loss: 6884.0210\n",
            "Epoch [380], val_loss: 6873.5635\n",
            "Epoch [400], val_loss: 6863.2539\n",
            "Epoch [420], val_loss: 6852.7500\n",
            "Epoch [440], val_loss: 6847.7720\n",
            "Epoch [460], val_loss: 6835.2417\n",
            "Epoch [480], val_loss: 6832.8447\n",
            "Epoch [500], val_loss: 6820.7344\n",
            "Epoch [520], val_loss: 6827.4648\n",
            "Epoch [540], val_loss: 6820.8887\n",
            "Epoch [560], val_loss: 6797.4736\n",
            "Epoch [580], val_loss: 6789.7119\n",
            "Epoch [600], val_loss: 6787.8438\n",
            "Epoch [620], val_loss: 6776.4375\n",
            "Epoch [640], val_loss: 6767.1221\n",
            "Epoch [660], val_loss: 6759.0342\n",
            "Epoch [680], val_loss: 6761.8213\n",
            "Epoch [700], val_loss: 6744.3975\n",
            "Epoch [720], val_loss: 6736.4609\n",
            "Epoch [740], val_loss: 6728.3652\n",
            "Epoch [760], val_loss: 6721.1074\n",
            "Epoch [780], val_loss: 6712.7290\n",
            "Epoch [800], val_loss: 6705.5698\n",
            "Epoch [820], val_loss: 6718.8525\n",
            "Epoch [840], val_loss: 6696.3423\n",
            "Epoch [860], val_loss: 6681.2979\n",
            "Epoch [880], val_loss: 6674.2656\n",
            "Epoch [900], val_loss: 6668.2061\n",
            "Epoch [920], val_loss: 6677.3164\n",
            "Epoch [940], val_loss: 6652.8398\n",
            "Epoch [960], val_loss: 6645.3613\n",
            "Epoch [980], val_loss: 6637.2666\n",
            "Epoch [1000], val_loss: 6630.9365\n"
          ],
          "name": "stdout"
        }
      ]
    },
    {
      "cell_type": "code",
      "metadata": {
        "id": "o2jKLV0KywNp",
        "colab_type": "code",
        "outputId": "b2146494-a8ab-45d2-927b-39bea3d1c061",
        "colab": {
          "base_uri": "https://localhost:8080/",
          "height": 867
        }
      },
      "source": [
        "epochs = 1000\n",
        "lr = 1\n",
        "history4 = fit(epochs, lr, model, train_loader, val_loader)"
      ],
      "execution_count": 55,
      "outputs": [
        {
          "output_type": "stream",
          "text": [
            "Epoch [20], val_loss: 6613.0420\n",
            "Epoch [40], val_loss: 6601.3003\n",
            "Epoch [60], val_loss: 6667.5146\n",
            "Epoch [80], val_loss: 6586.3213\n",
            "Epoch [100], val_loss: 6570.4380\n",
            "Epoch [120], val_loss: 6539.3350\n",
            "Epoch [140], val_loss: 6544.5952\n",
            "Epoch [160], val_loss: 6516.3950\n",
            "Epoch [180], val_loss: 6563.1504\n",
            "Epoch [200], val_loss: 6483.0547\n",
            "Epoch [220], val_loss: 6485.2285\n",
            "Epoch [240], val_loss: 6452.1240\n",
            "Epoch [260], val_loss: 6445.9229\n",
            "Epoch [280], val_loss: 6451.2461\n",
            "Epoch [300], val_loss: 6412.2324\n",
            "Epoch [320], val_loss: 6397.2051\n",
            "Epoch [340], val_loss: 6549.6338\n",
            "Epoch [360], val_loss: 6366.2681\n",
            "Epoch [380], val_loss: 6354.4346\n",
            "Epoch [400], val_loss: 6343.2754\n",
            "Epoch [420], val_loss: 6361.6670\n",
            "Epoch [440], val_loss: 6333.1797\n",
            "Epoch [460], val_loss: 6303.2935\n",
            "Epoch [480], val_loss: 6357.1479\n",
            "Epoch [500], val_loss: 6283.0928\n",
            "Epoch [520], val_loss: 6252.8818\n",
            "Epoch [540], val_loss: 6254.2197\n",
            "Epoch [560], val_loss: 6231.3643\n",
            "Epoch [580], val_loss: 6221.4634\n",
            "Epoch [600], val_loss: 6422.3433\n",
            "Epoch [620], val_loss: 6314.2241\n",
            "Epoch [640], val_loss: 6191.7124\n",
            "Epoch [660], val_loss: 6161.4189\n",
            "Epoch [680], val_loss: 6163.3359\n",
            "Epoch [700], val_loss: 6234.6816\n",
            "Epoch [720], val_loss: 6447.0420\n",
            "Epoch [740], val_loss: 6102.9863\n",
            "Epoch [760], val_loss: 6079.0815\n",
            "Epoch [780], val_loss: 6115.8076\n",
            "Epoch [800], val_loss: 6094.2866\n",
            "Epoch [820], val_loss: 6043.9116\n",
            "Epoch [840], val_loss: 6044.4419\n",
            "Epoch [860], val_loss: 6021.8027\n",
            "Epoch [880], val_loss: 6002.8506\n",
            "Epoch [900], val_loss: 5987.3848\n",
            "Epoch [920], val_loss: 5968.5249\n",
            "Epoch [940], val_loss: 6047.6348\n",
            "Epoch [960], val_loss: 5972.0581\n",
            "Epoch [980], val_loss: 6037.4365\n",
            "Epoch [1000], val_loss: 6084.3320\n"
          ],
          "name": "stdout"
        }
      ]
    },
    {
      "cell_type": "code",
      "metadata": {
        "id": "8mWnogLcywNu",
        "colab_type": "code",
        "outputId": "f1b714df-f975-494c-a3f0-46459fdbc939",
        "colab": {
          "base_uri": "https://localhost:8080/",
          "height": 867
        }
      },
      "source": [
        "epochs = 1000\n",
        "lr = 1.5\n",
        "history5 = fit(epochs, lr, model, train_loader, val_loader)"
      ],
      "execution_count": 56,
      "outputs": [
        {
          "output_type": "stream",
          "text": [
            "Epoch [20], val_loss: 6285.5283\n",
            "Epoch [40], val_loss: 5868.5391\n",
            "Epoch [60], val_loss: 6202.5425\n",
            "Epoch [80], val_loss: 5915.1094\n",
            "Epoch [100], val_loss: 5875.4717\n",
            "Epoch [120], val_loss: 5781.9307\n",
            "Epoch [140], val_loss: 5774.8711\n",
            "Epoch [160], val_loss: 5948.8096\n",
            "Epoch [180], val_loss: 5771.3701\n",
            "Epoch [200], val_loss: 6243.7588\n",
            "Epoch [220], val_loss: 6119.3564\n",
            "Epoch [240], val_loss: 5831.8535\n",
            "Epoch [260], val_loss: 5723.8511\n",
            "Epoch [280], val_loss: 6076.7041\n",
            "Epoch [300], val_loss: 5878.7817\n",
            "Epoch [320], val_loss: 5582.2393\n",
            "Epoch [340], val_loss: 5577.1768\n",
            "Epoch [360], val_loss: 5544.4268\n",
            "Epoch [380], val_loss: 5541.4990\n",
            "Epoch [400], val_loss: 5556.8271\n",
            "Epoch [420], val_loss: 5874.5586\n",
            "Epoch [440], val_loss: 5885.4912\n",
            "Epoch [460], val_loss: 5649.6294\n",
            "Epoch [480], val_loss: 5528.3789\n",
            "Epoch [500], val_loss: 5475.9932\n",
            "Epoch [520], val_loss: 5388.3608\n",
            "Epoch [540], val_loss: 5624.4365\n",
            "Epoch [560], val_loss: 5371.6455\n",
            "Epoch [580], val_loss: 5309.9131\n",
            "Epoch [600], val_loss: 5776.3662\n",
            "Epoch [620], val_loss: 5771.7842\n",
            "Epoch [640], val_loss: 5280.7500\n",
            "Epoch [660], val_loss: 5228.2734\n",
            "Epoch [680], val_loss: 5334.6445\n",
            "Epoch [700], val_loss: 5180.9751\n",
            "Epoch [720], val_loss: 5326.7910\n",
            "Epoch [740], val_loss: 5293.7109\n",
            "Epoch [760], val_loss: 5115.3516\n",
            "Epoch [780], val_loss: 5236.3232\n",
            "Epoch [800], val_loss: 5117.4238\n",
            "Epoch [820], val_loss: 5087.9170\n",
            "Epoch [840], val_loss: 5340.9585\n",
            "Epoch [860], val_loss: 5130.4521\n",
            "Epoch [880], val_loss: 5060.8721\n",
            "Epoch [900], val_loss: 5126.6328\n",
            "Epoch [920], val_loss: 5241.8828\n",
            "Epoch [940], val_loss: 5453.5186\n",
            "Epoch [960], val_loss: 5183.6914\n",
            "Epoch [980], val_loss: 5291.3760\n",
            "Epoch [1000], val_loss: 4921.1270\n"
          ],
          "name": "stdout"
        }
      ]
    },
    {
      "cell_type": "code",
      "metadata": {
        "id": "ZM9x47kG6K4Q",
        "colab_type": "code",
        "outputId": "05a78ff8-04e6-42a1-b4f0-f83ca80f3729",
        "colab": {
          "base_uri": "https://localhost:8080/",
          "height": 867
        }
      },
      "source": [
        "epochs = 1000\n",
        "lr = 2\n",
        "history6 = fit(epochs, lr, model, train_loader, val_loader)"
      ],
      "execution_count": 57,
      "outputs": [
        {
          "output_type": "stream",
          "text": [
            "Epoch [20], val_loss: 5658.0117\n",
            "Epoch [40], val_loss: 5079.6426\n",
            "Epoch [60], val_loss: 5161.0479\n",
            "Epoch [80], val_loss: 6207.3643\n",
            "Epoch [100], val_loss: 4859.5063\n",
            "Epoch [120], val_loss: 4869.0410\n",
            "Epoch [140], val_loss: 4732.9600\n",
            "Epoch [160], val_loss: 6208.2100\n",
            "Epoch [180], val_loss: 4931.7939\n",
            "Epoch [200], val_loss: 5862.0303\n",
            "Epoch [220], val_loss: 4663.0376\n",
            "Epoch [240], val_loss: 5505.8857\n",
            "Epoch [260], val_loss: 6048.0371\n",
            "Epoch [280], val_loss: 5949.5103\n",
            "Epoch [300], val_loss: 5982.9189\n",
            "Epoch [320], val_loss: 4698.3086\n",
            "Epoch [340], val_loss: 5812.0488\n",
            "Epoch [360], val_loss: 4545.7202\n",
            "Epoch [380], val_loss: 4911.4736\n",
            "Epoch [400], val_loss: 5635.0049\n",
            "Epoch [420], val_loss: 4517.5703\n",
            "Epoch [440], val_loss: 5805.7568\n",
            "Epoch [460], val_loss: 5603.4512\n",
            "Epoch [480], val_loss: 5808.4238\n",
            "Epoch [500], val_loss: 4441.4961\n",
            "Epoch [520], val_loss: 4415.6128\n",
            "Epoch [540], val_loss: 5762.8052\n",
            "Epoch [560], val_loss: 5124.3359\n",
            "Epoch [580], val_loss: 4402.8447\n",
            "Epoch [600], val_loss: 4959.4922\n",
            "Epoch [620], val_loss: 5250.1494\n",
            "Epoch [640], val_loss: 4375.8428\n",
            "Epoch [660], val_loss: 4538.0908\n",
            "Epoch [680], val_loss: 4437.3711\n",
            "Epoch [700], val_loss: 4831.3188\n",
            "Epoch [720], val_loss: 5605.1162\n",
            "Epoch [740], val_loss: 5344.3223\n",
            "Epoch [760], val_loss: 4604.5244\n",
            "Epoch [780], val_loss: 5829.7568\n",
            "Epoch [800], val_loss: 4319.4863\n",
            "Epoch [820], val_loss: 4887.9463\n",
            "Epoch [840], val_loss: 5970.3701\n",
            "Epoch [860], val_loss: 6162.8887\n",
            "Epoch [880], val_loss: 4304.4180\n",
            "Epoch [900], val_loss: 4672.7646\n",
            "Epoch [920], val_loss: 4294.8184\n",
            "Epoch [940], val_loss: 5658.7690\n",
            "Epoch [960], val_loss: 4892.1729\n",
            "Epoch [980], val_loss: 5054.2827\n",
            "Epoch [1000], val_loss: 5829.3457\n"
          ],
          "name": "stdout"
        }
      ]
    },
    {
      "cell_type": "code",
      "metadata": {
        "id": "9M3E3o8R6oaz",
        "colab_type": "code",
        "outputId": "849b7322-e239-4621-e3b1-dbecec93393b",
        "colab": {
          "base_uri": "https://localhost:8080/",
          "height": 867
        }
      },
      "source": [
        "epochs = 1000\n",
        "lr = 1\n",
        "history7 = fit(epochs, lr, model, train_loader, val_loader)"
      ],
      "execution_count": 58,
      "outputs": [
        {
          "output_type": "stream",
          "text": [
            "Epoch [20], val_loss: 4272.6113\n",
            "Epoch [40], val_loss: 4277.5786\n",
            "Epoch [60], val_loss: 4257.5186\n",
            "Epoch [80], val_loss: 4248.1040\n",
            "Epoch [100], val_loss: 4714.2856\n",
            "Epoch [120], val_loss: 4296.6328\n",
            "Epoch [140], val_loss: 4356.5957\n",
            "Epoch [160], val_loss: 4550.9014\n",
            "Epoch [180], val_loss: 4310.6641\n",
            "Epoch [200], val_loss: 4257.8916\n",
            "Epoch [220], val_loss: 4249.2544\n",
            "Epoch [240], val_loss: 4260.9253\n",
            "Epoch [260], val_loss: 4227.6143\n",
            "Epoch [280], val_loss: 4339.1689\n",
            "Epoch [300], val_loss: 4247.7686\n",
            "Epoch [320], val_loss: 4448.1152\n",
            "Epoch [340], val_loss: 4366.7681\n",
            "Epoch [360], val_loss: 4411.1958\n",
            "Epoch [380], val_loss: 4313.8755\n",
            "Epoch [400], val_loss: 4410.1675\n",
            "Epoch [420], val_loss: 4254.7090\n",
            "Epoch [440], val_loss: 4301.8555\n",
            "Epoch [460], val_loss: 4302.1997\n",
            "Epoch [480], val_loss: 4369.5166\n",
            "Epoch [500], val_loss: 4208.1533\n",
            "Epoch [520], val_loss: 4329.1875\n",
            "Epoch [540], val_loss: 4308.5972\n",
            "Epoch [560], val_loss: 4460.3408\n",
            "Epoch [580], val_loss: 4345.0044\n",
            "Epoch [600], val_loss: 4250.3906\n",
            "Epoch [620], val_loss: 4373.6343\n",
            "Epoch [640], val_loss: 4255.3594\n",
            "Epoch [660], val_loss: 4195.9849\n",
            "Epoch [680], val_loss: 4202.9268\n",
            "Epoch [700], val_loss: 4212.7959\n",
            "Epoch [720], val_loss: 4305.4600\n",
            "Epoch [740], val_loss: 4511.2153\n",
            "Epoch [760], val_loss: 4289.2769\n",
            "Epoch [780], val_loss: 4402.6182\n",
            "Epoch [800], val_loss: 4191.5562\n",
            "Epoch [820], val_loss: 4201.8003\n",
            "Epoch [840], val_loss: 4302.4258\n",
            "Epoch [860], val_loss: 4483.9531\n",
            "Epoch [880], val_loss: 4197.6060\n",
            "Epoch [900], val_loss: 4653.4829\n",
            "Epoch [920], val_loss: 4188.0254\n",
            "Epoch [940], val_loss: 4181.2061\n",
            "Epoch [960], val_loss: 4221.2881\n",
            "Epoch [980], val_loss: 4178.9482\n",
            "Epoch [1000], val_loss: 4295.5527\n"
          ],
          "name": "stdout"
        }
      ]
    },
    {
      "cell_type": "code",
      "metadata": {
        "id": "BzILVFyu6y-4",
        "colab_type": "code",
        "outputId": "366275b0-5099-47fe-bf36-a3dec129b63e",
        "colab": {
          "base_uri": "https://localhost:8080/",
          "height": 867
        }
      },
      "source": [
        "epochs = 1000\n",
        "lr = 5e-1\n",
        "history8 = fit(epochs, lr, model, train_loader, val_loader)"
      ],
      "execution_count": 59,
      "outputs": [
        {
          "output_type": "stream",
          "text": [
            "Epoch [20], val_loss: 4176.5391\n",
            "Epoch [40], val_loss: 4175.2148\n",
            "Epoch [60], val_loss: 4177.2324\n",
            "Epoch [80], val_loss: 4184.0234\n",
            "Epoch [100], val_loss: 4240.1230\n",
            "Epoch [120], val_loss: 4198.7764\n",
            "Epoch [140], val_loss: 4175.8955\n",
            "Epoch [160], val_loss: 4229.0854\n",
            "Epoch [180], val_loss: 4181.8853\n",
            "Epoch [200], val_loss: 4183.8545\n",
            "Epoch [220], val_loss: 4195.9604\n",
            "Epoch [240], val_loss: 4196.9585\n",
            "Epoch [260], val_loss: 4170.7715\n",
            "Epoch [280], val_loss: 4194.2710\n",
            "Epoch [300], val_loss: 4181.2065\n",
            "Epoch [320], val_loss: 4178.7412\n",
            "Epoch [340], val_loss: 4180.0361\n",
            "Epoch [360], val_loss: 4169.7480\n",
            "Epoch [380], val_loss: 4188.4941\n",
            "Epoch [400], val_loss: 4169.0298\n",
            "Epoch [420], val_loss: 4202.5098\n",
            "Epoch [440], val_loss: 4173.5566\n",
            "Epoch [460], val_loss: 4167.0801\n",
            "Epoch [480], val_loss: 4166.2661\n",
            "Epoch [500], val_loss: 4166.7705\n",
            "Epoch [520], val_loss: 4166.6260\n",
            "Epoch [540], val_loss: 4167.5503\n",
            "Epoch [560], val_loss: 4171.9399\n",
            "Epoch [580], val_loss: 4171.4956\n",
            "Epoch [600], val_loss: 4179.3843\n",
            "Epoch [620], val_loss: 4182.4434\n",
            "Epoch [640], val_loss: 4165.8740\n",
            "Epoch [660], val_loss: 4168.1172\n",
            "Epoch [680], val_loss: 4186.1484\n",
            "Epoch [700], val_loss: 4170.9448\n",
            "Epoch [720], val_loss: 4180.1011\n",
            "Epoch [740], val_loss: 4171.2651\n",
            "Epoch [760], val_loss: 4184.5073\n",
            "Epoch [780], val_loss: 4170.3232\n",
            "Epoch [800], val_loss: 4182.5181\n",
            "Epoch [820], val_loss: 4173.0933\n",
            "Epoch [840], val_loss: 4168.8052\n",
            "Epoch [860], val_loss: 4160.9995\n",
            "Epoch [880], val_loss: 4169.6553\n",
            "Epoch [900], val_loss: 4182.9668\n",
            "Epoch [920], val_loss: 4178.5977\n",
            "Epoch [940], val_loss: 4168.0093\n",
            "Epoch [960], val_loss: 4173.0015\n",
            "Epoch [980], val_loss: 4189.8638\n",
            "Epoch [1000], val_loss: 4158.9004\n"
          ],
          "name": "stdout"
        }
      ]
    },
    {
      "cell_type": "code",
      "metadata": {
        "id": "DVoWjQbSEH4Q",
        "colab_type": "code",
        "colab": {
          "base_uri": "https://localhost:8080/",
          "height": 867
        },
        "outputId": "4a2e3242-2fd5-4c8b-da5e-542c70696b8a"
      },
      "source": [
        "epochs = 1000\n",
        "lr = 2e-1\n",
        "history9 = fit(epochs, lr, model, train_loader, val_loader)"
      ],
      "execution_count": 60,
      "outputs": [
        {
          "output_type": "stream",
          "text": [
            "Epoch [20], val_loss: 4161.1733\n",
            "Epoch [40], val_loss: 4160.6206\n",
            "Epoch [60], val_loss: 4160.1230\n",
            "Epoch [80], val_loss: 4157.6221\n",
            "Epoch [100], val_loss: 4158.6919\n",
            "Epoch [120], val_loss: 4165.9199\n",
            "Epoch [140], val_loss: 4157.4727\n",
            "Epoch [160], val_loss: 4161.4189\n",
            "Epoch [180], val_loss: 4169.5156\n",
            "Epoch [200], val_loss: 4157.7754\n",
            "Epoch [220], val_loss: 4158.8599\n",
            "Epoch [240], val_loss: 4158.8887\n",
            "Epoch [260], val_loss: 4161.7651\n",
            "Epoch [280], val_loss: 4157.4106\n",
            "Epoch [300], val_loss: 4166.3359\n",
            "Epoch [320], val_loss: 4156.6016\n",
            "Epoch [340], val_loss: 4166.4414\n",
            "Epoch [360], val_loss: 4162.2886\n",
            "Epoch [380], val_loss: 4159.0400\n",
            "Epoch [400], val_loss: 4157.3462\n",
            "Epoch [420], val_loss: 4163.1162\n",
            "Epoch [440], val_loss: 4159.0767\n",
            "Epoch [460], val_loss: 4156.1450\n",
            "Epoch [480], val_loss: 4155.8540\n",
            "Epoch [500], val_loss: 4171.4746\n",
            "Epoch [520], val_loss: 4155.5103\n",
            "Epoch [540], val_loss: 4155.4346\n",
            "Epoch [560], val_loss: 4165.1973\n",
            "Epoch [580], val_loss: 4156.5488\n",
            "Epoch [600], val_loss: 4159.4106\n",
            "Epoch [620], val_loss: 4163.2412\n",
            "Epoch [640], val_loss: 4161.4927\n",
            "Epoch [660], val_loss: 4158.9531\n",
            "Epoch [680], val_loss: 4167.2051\n",
            "Epoch [700], val_loss: 4155.0176\n",
            "Epoch [720], val_loss: 4162.1328\n",
            "Epoch [740], val_loss: 4164.5962\n",
            "Epoch [760], val_loss: 4160.1694\n",
            "Epoch [780], val_loss: 4154.7700\n",
            "Epoch [800], val_loss: 4156.4844\n",
            "Epoch [820], val_loss: 4159.3853\n",
            "Epoch [840], val_loss: 4170.4678\n",
            "Epoch [860], val_loss: 4167.1489\n",
            "Epoch [880], val_loss: 4155.6372\n",
            "Epoch [900], val_loss: 4154.1948\n",
            "Epoch [920], val_loss: 4163.3584\n",
            "Epoch [940], val_loss: 4153.5117\n",
            "Epoch [960], val_loss: 4157.3237\n",
            "Epoch [980], val_loss: 4153.3110\n",
            "Epoch [1000], val_loss: 4157.9590\n"
          ],
          "name": "stdout"
        }
      ]
    },
    {
      "cell_type": "markdown",
      "metadata": {
        "id": "9HJ2ME0gywNx",
        "colab_type": "text"
      },
      "source": [
        "**Q: What is the final validation loss of your model?**"
      ]
    },
    {
      "cell_type": "code",
      "metadata": {
        "id": "a9muEuCjETdy",
        "colab_type": "code",
        "colab": {
          "base_uri": "https://localhost:8080/",
          "height": 867
        },
        "outputId": "1d45d097-82ed-4dac-ba77-34c91f9004c2"
      },
      "source": [
        "epochs = 1000\n",
        "lr = 2e-1\n",
        "history10 = fit(epochs, lr, model, train_loader, val_loader)"
      ],
      "execution_count": 61,
      "outputs": [
        {
          "output_type": "stream",
          "text": [
            "Epoch [20], val_loss: 4153.4014\n",
            "Epoch [40], val_loss: 4154.2319\n",
            "Epoch [60], val_loss: 4152.9307\n",
            "Epoch [80], val_loss: 4155.8486\n",
            "Epoch [100], val_loss: 4152.8604\n",
            "Epoch [120], val_loss: 4157.4268\n",
            "Epoch [140], val_loss: 4154.3638\n",
            "Epoch [160], val_loss: 4155.9189\n",
            "Epoch [180], val_loss: 4153.1162\n",
            "Epoch [200], val_loss: 4152.9043\n",
            "Epoch [220], val_loss: 4159.1616\n",
            "Epoch [240], val_loss: 4159.2158\n",
            "Epoch [260], val_loss: 4152.9443\n",
            "Epoch [280], val_loss: 4152.0244\n",
            "Epoch [300], val_loss: 4155.5752\n",
            "Epoch [320], val_loss: 4163.6357\n",
            "Epoch [340], val_loss: 4152.0205\n",
            "Epoch [360], val_loss: 4151.7759\n",
            "Epoch [380], val_loss: 4157.4058\n",
            "Epoch [400], val_loss: 4152.0352\n",
            "Epoch [420], val_loss: 4158.2617\n",
            "Epoch [440], val_loss: 4152.0059\n",
            "Epoch [460], val_loss: 4155.2515\n",
            "Epoch [480], val_loss: 4153.6431\n",
            "Epoch [500], val_loss: 4153.7139\n",
            "Epoch [520], val_loss: 4151.9150\n",
            "Epoch [540], val_loss: 4151.4087\n",
            "Epoch [560], val_loss: 4154.5576\n",
            "Epoch [580], val_loss: 4151.0142\n",
            "Epoch [600], val_loss: 4151.2515\n",
            "Epoch [620], val_loss: 4150.8281\n",
            "Epoch [640], val_loss: 4155.7539\n",
            "Epoch [660], val_loss: 4151.0049\n",
            "Epoch [680], val_loss: 4150.8540\n",
            "Epoch [700], val_loss: 4162.6592\n",
            "Epoch [720], val_loss: 4152.1426\n",
            "Epoch [740], val_loss: 4154.2188\n",
            "Epoch [760], val_loss: 4150.5820\n",
            "Epoch [780], val_loss: 4150.6943\n",
            "Epoch [800], val_loss: 4150.4458\n",
            "Epoch [820], val_loss: 4151.7075\n",
            "Epoch [840], val_loss: 4167.1353\n",
            "Epoch [860], val_loss: 4152.4570\n",
            "Epoch [880], val_loss: 4152.8984\n",
            "Epoch [900], val_loss: 4158.1396\n",
            "Epoch [920], val_loss: 4154.3027\n",
            "Epoch [940], val_loss: 4156.2070\n",
            "Epoch [960], val_loss: 4151.3833\n",
            "Epoch [980], val_loss: 4155.1992\n",
            "Epoch [1000], val_loss: 4149.8096\n"
          ],
          "name": "stdout"
        }
      ]
    },
    {
      "cell_type": "code",
      "metadata": {
        "id": "jzPyWwfNywNy",
        "colab_type": "code",
        "outputId": "b22fd93d-5c8a-4e6a-a7aa-1fad27ce1531",
        "colab": {
          "base_uri": "https://localhost:8080/",
          "height": 34
        }
      },
      "source": [
        "val_loss = history8[-1]\n",
        "print('The final validation loss is: ', val_loss)"
      ],
      "execution_count": 62,
      "outputs": [
        {
          "output_type": "stream",
          "text": [
            "The final validation loss is:  {'val_loss': 4158.900390625}\n"
          ],
          "name": "stdout"
        }
      ]
    },
    {
      "cell_type": "code",
      "metadata": {
        "id": "VtdMtlCC7ywU",
        "colab_type": "code",
        "outputId": "e5eadf88-07b8-42e7-8aa6-5bd6f15fa410",
        "colab": {
          "base_uri": "https://localhost:8080/",
          "height": 312
        }
      },
      "source": [
        "whole_history = [result] + history1 + history2 + history3 + history4 + history5 + history6 + history7 + history8 \n",
        "losses = [r['val_loss'] for r in whole_history]\n",
        "\n",
        "plt.plot(losses)\n",
        "plt.grid('on')\n",
        "plt.title('Loss Value vs Training Epochs')\n",
        "plt.xlabel('epochs')\n",
        "plt.ylabel('losses')"
      ],
      "execution_count": 63,
      "outputs": [
        {
          "output_type": "execute_result",
          "data": {
            "text/plain": [
              "Text(0, 0.5, 'losses')"
            ]
          },
          "metadata": {
            "tags": []
          },
          "execution_count": 63
        },
        {
          "output_type": "display_data",
          "data": {
            "image/png": "[encoded data removed]",
            "text/plain": [
              "<Figure size 432x288 with 1 Axes>"
            ]
          },
          "metadata": {
            "tags": []
          }
        }
      ]
    },
    {
      "cell_type": "markdown",
      "metadata": {
        "id": "HB2mDSSaywN3",
        "colab_type": "text"
      },
      "source": [
        "Let's log the final validation loss to Jovian and commit the notebook"
      ]
    },
    {
      "cell_type": "code",
      "metadata": {
        "id": "Knz40a1SywN3",
        "colab_type": "code",
        "colab": {}
      },
      "source": [
        "jovian.log_metrics(val_loss=val_loss)"
      ],
      "execution_count": 0,
      "outputs": []
    },
    {
      "cell_type": "code",
      "metadata": {
        "id": "EoWMuqreywN_",
        "colab_type": "code",
        "colab": {}
      },
      "source": [
        "jovian.commit(project=project_name, environment=None)"
      ],
      "execution_count": 0,
      "outputs": []
    },
    {
      "cell_type": "markdown",
      "metadata": {
        "id": "5KVdTJXvywOC",
        "colab_type": "text"
      },
      "source": [
        "Now scroll back up, re-initialize the model, and try different set of values for batch size, number of epochs, learning rate etc. Commit each experiment and use the \"Compare\" and \"View Diff\" options on Jovian to compare the different results."
      ]
    },
    {
      "cell_type": "markdown",
      "metadata": {
        "id": "b9biL8naywOC",
        "colab_type": "text"
      },
      "source": [
        "## Step 5: Make predictions using the trained model\n",
        "\n",
        "**Q: Complete the following function definition to make predictions on a single input**"
      ]
    },
    {
      "cell_type": "code",
      "metadata": {
        "id": "sqDmi85GywOD",
        "colab_type": "code",
        "colab": {}
      },
      "source": [
        "def predict_single(input, target, model):\n",
        "    inputs = input.unsqueeze(0)\n",
        "    predictions = model(input)                # fill this\n",
        "    prediction = predictions[0].detach()\n",
        "    print(\"Input:\", input)\n",
        "    print(\"Target:\", target)\n",
        "    print(\"Prediction:\", prediction)"
      ],
      "execution_count": 0,
      "outputs": []
    },
    {
      "cell_type": "code",
      "metadata": {
        "id": "DTlLZWBLywOH",
        "colab_type": "code",
        "outputId": "589e6fd1-5eef-4d97-b910-921deef1df3e",
        "colab": {
          "base_uri": "https://localhost:8080/",
          "height": 68
        }
      },
      "source": [
        "input, target = val_ds[0]\n",
        "predict_single(input, target, model)"
      ],
      "execution_count": 65,
      "outputs": [
        {
          "output_type": "stream",
          "text": [
            "Input: tensor([21.0000,  1.0000, 34.4641,  0.0000,  0.0000])\n",
            "Target: tensor([1501.8203])\n",
            "Prediction: tensor(1748.9500)\n"
          ],
          "name": "stdout"
        }
      ]
    },
    {
      "cell_type": "code",
      "metadata": {
        "id": "X1s-VewhywOK",
        "colab_type": "code",
        "outputId": "1902aac3-4a35-448e-abfb-eff5ad872a7b",
        "colab": {
          "base_uri": "https://localhost:8080/",
          "height": 68
        }
      },
      "source": [
        "input, target = val_ds[10]\n",
        "predict_single(input, target, model)"
      ],
      "execution_count": 66,
      "outputs": [
        {
          "output_type": "stream",
          "text": [
            "Input: tensor([24.0000,  0.0000, 24.5119,  0.0000,  0.0000])\n",
            "Target: tensor([2983.3291])\n",
            "Prediction: tensor(2887.0125)\n"
          ],
          "name": "stdout"
        }
      ]
    },
    {
      "cell_type": "code",
      "metadata": {
        "id": "TNZmhsI7ywOM",
        "colab_type": "code",
        "outputId": "f1bfa225-80b7-4699-e73e-f0a075676dd2",
        "colab": {
          "base_uri": "https://localhost:8080/",
          "height": 68
        }
      },
      "source": [
        "input, target = val_ds[25]\n",
        "predict_single(input, target, model)"
      ],
      "execution_count": 68,
      "outputs": [
        {
          "output_type": "stream",
          "text": [
            "Input: tensor([41.0000,  0.0000, 30.0894,  0.0000,  0.0000])\n",
            "Target: tensor([6061.6143])\n",
            "Prediction: tensor(7297.3525)\n"
          ],
          "name": "stdout"
        }
      ]
    },
    {
      "cell_type": "markdown",
      "metadata": {
        "id": "z6Szw0cTywOP",
        "colab_type": "text"
      },
      "source": [
        "Are you happy with your model's predictions? Try to improve them further."
      ]
    },
    {
      "cell_type": "markdown",
      "metadata": {
        "id": "FHDGpM_GywOQ",
        "colab_type": "text"
      },
      "source": [
        "## (Optional) Step 6: Try another dataset & blog about it\n",
        "\n",
        "While this last step is optional for the submission of your assignment, we highly recommend that you do it. Try to clean up & replicate this notebook (or [this one](https://jovian.ml/aakashns/housing-linear-minimal), or [this one](https://jovian.ml/aakashns/mnist-logistic-minimal) ) for a different linear regression or logistic regression problem. This will help solidify your understanding, and give you a chance to differentiate the generic patters in machine learning from problem-specific details.\n",
        "\n",
        "Here are some sources to find good datasets:\n",
        "\n",
        "- https://lionbridge.ai/datasets/10-open-datasets-for-linear-regression/\n",
        "- https://www.kaggle.com/rtatman/datasets-for-regression-analysis\n",
        "- https://archive.ics.uci.edu/ml/datasets.php?format=&task=reg&att=&area=&numAtt=&numIns=&type=&sort=nameUp&view=table\n",
        "- https://people.sc.fsu.edu/~jburkardt/datasets/regression/regression.html\n",
        "- https://archive.ics.uci.edu/ml/datasets/wine+quality\n",
        "- https://pytorch.org/docs/stable/torchvision/datasets.html\n",
        "\n",
        "We also recommend that you write a blog about your approach to the problem. Here is a suggested structure for your post (feel free to experiment with it):\n",
        "\n",
        "- Interesting title & subtitle\n",
        "- Overview of what the blog covers (which dataset, linear regression or logistic regression, intro to PyTorch)\n",
        "- Downloading & exploring the data\n",
        "- Preparing the data for training\n",
        "- Creating a model using PyTorch\n",
        "- Training the model to fit the data\n",
        "- Your thoughts on how to experiment with different hyperparmeters to reduce loss\n",
        "- Making predictions using the model\n",
        "\n",
        "As with the previous assignment, you can [embed Juptyer notebook cells & outputs from Jovian](https://medium.com/jovianml/share-and-embed-jupyter-notebooks-online-with-jovian-ml-df709a03064e) into your blog. \n",
        "\n",
        "Don't forget to share your work on the forum: https://jovian.ml/forum/t/share-your-work-here-assignment-2/4931"
      ]
    },
    {
      "cell_type": "code",
      "metadata": {
        "id": "VKz31iP0ywOQ",
        "colab_type": "code",
        "colab": {}
      },
      "source": [
        "jovian.commit(project=project_name, environment=None)\n",
        "jovian.commit(project=project_name, environment=None) # try again, kaggle fails sometimes"
      ],
      "execution_count": 0,
      "outputs": []
    },
    {
      "cell_type": "code",
      "metadata": {
        "id": "LkO4KHptywOV",
        "colab_type": "code",
        "colab": {}
      },
      "source": [
        ""
      ],
      "execution_count": 0,
      "outputs": []
    }
  ]
}