{
 "cells": [
  {
   "cell_type": "markdown",
   "metadata": {
    "colab_type": "text",
    "id": "rMy6uj4DFrME"
   },
   "source": [
    "# Tensor operations in PyTorch\n",
    "\n",
    "### Trigonometric Functions in PyTorch\n",
    "\n",
    "Trigonometric functions are widely used in sciences related to geometric spaces such as: robotics, machine vision, and machine learning. \n",
    "\n",
    "PyTorch supports various trigonometric functions. This notebooks shows how to use and debbug the following functions:\n",
    "\n",
    "- `torch.cos()`\n",
    "- `torch.sin()`\n",
    "- `torch.tan()`\n",
    "- `torch.acos()`\n",
    "- `torch.asin()`\n",
    "- `torch.atan()`\n",
    "\n",
    "NOTE: PyTorch just as other libraries assumes that the values are in *radians* and not in *degrees*. "
   ]
  },
  {
   "cell_type": "code",
   "execution_count": null,
   "metadata": {
    "colab": {},
    "colab_type": "code",
    "id": "5oMt9ndgV455"
   },
   "outputs": [],
   "source": [
    "# Uncomend this lines in case you don't have the following modules installed\n",
    "\n",
    "# !pip install pytorch\n",
    "# !pip install matplotlib"
   ]
  },
  {
   "cell_type": "code",
   "execution_count": null,
   "metadata": {
    "colab": {},
    "colab_type": "code",
    "id": "JWnjn0W92pGA"
   },
   "outputs": [],
   "source": [
    "# Import modules\n",
    "import torch\n",
    "import matplotlib.pyplot as plt"
   ]
  },
  {
   "cell_type": "markdown",
   "metadata": {
    "colab_type": "text",
    "id": "ze2auOv2WAuv"
   },
   "source": [
    "## Function 1 - `torch.cos(input_tensor)` \n",
    "\n",
    "This function returns the cosine tensor of the elements contained in the input_tensor "
   ]
  },
  {
   "cell_type": "code",
   "execution_count": null,
   "metadata": {
    "colab": {
     "base_uri": "https://localhost:8080/",
     "height": 102
    },
    "colab_type": "code",
    "id": "aj_VSLkhetHD",
    "outputId": "ebe8f112-e9c2-4740-e052-2780276166f9"
   },
   "outputs": [],
   "source": [
    "# Example 1 ...\n",
    "# x is a tensor of size 10 and type 'float32'\n",
    "x = torch.Tensor([10., 20, 30, 40, 50, 60, 70, 80, 90, 100])\n",
    "\n",
    "# print the x tensor and its dtype\n",
    "print('x is a tensor type: ', x.dtype)\n",
    "print(x)\n",
    "\n",
    "# apply torch.sin() to the x tensor\n",
    "y = torch.cos(x)\n",
    "\n",
    "# print the output of the tensor sin_x\n",
    "print('The cosine of the tensor x is: ')\n",
    "print(y)"
   ]
  },
  {
   "cell_type": "markdown",
   "metadata": {
    "colab_type": "text",
    "id": "t-oo-Hp6esKc"
   },
   "source": [
    "Notice that the x tensor was declared with only one value as float (10.) and the rest of the elements as integers.\n",
    "\n",
    "Nevertheless, the x tensor was declared as 'float32'. This is becuase it is necesary to have only one value as float to create the whole tensor as float.\n",
    "\n",
    "Let's see how we can use it to plot a nice cosine wave."
   ]
  },
  {
   "cell_type": "code",
   "execution_count": null,
   "metadata": {
    "colab": {
     "base_uri": "https://localhost:8080/",
     "height": 533
    },
    "colab_type": "code",
    "id": "2BiaAz2IfCgu",
    "outputId": "0919ebdd-83c7-4475-d475-28e178cc8b8b"
   },
   "outputs": [],
   "source": [
    "# Example 2 ...\n",
    "# Let's create a one-dimensional tensor with torch.linespace(starts, ends, size)\n",
    "x = torch.linspace(-10, 10, 100)\n",
    "\n",
    "# Applying the sine function to the one-dimensional tensor \n",
    "y = torch.cos(x) \n",
    "\n",
    "# print the output elements of torch.cos() \n",
    "print('The elements inside the y tensor are: ') \n",
    "print(y)\n",
    "\n",
    "# Plotting the tensors x and y\n",
    "plt.plot(x, y, color='red', marker=\"x\") \n",
    "plt.title(\"torch.cos() tensor\") \n",
    "plt.xlabel(\"x-axis\") \n",
    "plt.ylabel(\"y-axis\")\n",
    "plt.grid() \n",
    "plt.show()"
   ]
  },
  {
   "cell_type": "markdown",
   "metadata": {
    "colab_type": "text",
    "id": "toDyRzA_fitZ"
   },
   "source": [
    "Now let's see a common error in the sintax of `torch.cos()`"
   ]
  },
  {
   "cell_type": "code",
   "execution_count": null,
   "metadata": {
    "colab": {
     "base_uri": "https://localhost:8080/",
     "height": 231
    },
    "colab_type": "code",
    "id": "_Wv01zgVfoZK",
    "outputId": "76f77f48-146b-469e-e3ab-4a058fe3fc47"
   },
   "outputs": [],
   "source": [
    "# Example 3 ...\n",
    "# x is an integer \n",
    "x = 1\n",
    "\n",
    "# calculate the sine of x using torch.cos()\n",
    "y = torch.cos(x)\n",
    "\n",
    "# print the output of cos(x)\n",
    "print(y)"
   ]
  },
  {
   "cell_type": "markdown",
   "metadata": {
    "colab_type": "text",
    "id": "id1HpYXffyhj"
   },
   "source": [
    "Remember that `torch.cos()` requires a tensor as input, for instance the solution to fix this error is to declare x as `x = torch.Tensor(1)`\n",
    "\n",
    "\n"
   ]
  },
  {
   "cell_type": "markdown",
   "metadata": {
    "colab_type": "text",
    "id": "FcXPkN-1f8F0"
   },
   "source": [
    "## Function 2 - `torch.sin(input_tensor)` \n",
    "\n",
    "This function returns the sine tensor of the elements contained in the input_tensor "
   ]
  },
  {
   "cell_type": "code",
   "execution_count": null,
   "metadata": {
    "colab": {
     "base_uri": "https://localhost:8080/",
     "height": 102
    },
    "colab_type": "code",
    "id": "W-pfnVo9G0zn",
    "outputId": "f88e49cc-66d3-414a-dffc-1537aa5d98af"
   },
   "outputs": [],
   "source": [
    "# Example 1 ...\n",
    "# x is a tensor of size 10 and type 'float32'\n",
    "x = torch.Tensor([10.0, 20, 30, 40, 50, 60, 70, 80, 90, 100])\n",
    "\n",
    "# print the x tensor and its dtype\n",
    "print('x is a tensor type: ', x.dtype)\n",
    "print(x)\n",
    "\n",
    "# apply torch.sin() to the x tensor\n",
    "y = torch.sin(x)\n",
    "\n",
    "# print the output of the tensor sin_x\n",
    "print('The sine of the tensor x is: ')\n",
    "print(y)\n"
   ]
  },
  {
   "cell_type": "markdown",
   "metadata": {
    "colab_type": "text",
    "id": "MG7kWTrsXVcf"
   },
   "source": [
    "Notice that the x tensor was declared with only one value as float (10.0) and the rest of the elements as integers. \n",
    "\n",
    "Nevertheless, the x tensor was declared as 'float32'. This is becuase it is necesary to have only one value as float to create the whole tensor as float.\n",
    "\n",
    "Let's see how we can use it to plot a nice sine wave."
   ]
  },
  {
   "cell_type": "code",
   "execution_count": null,
   "metadata": {
    "colab": {
     "base_uri": "https://localhost:8080/",
     "height": 533
    },
    "colab_type": "code",
    "id": "yEGUARU0I1eD",
    "outputId": "3244bf3b-740d-4e0e-9b45-2118841f9b5d"
   },
   "outputs": [],
   "source": [
    "# Let's create a one-dimensional tensor with torch.linespace(starts, ends, size)\n",
    "x = torch.linspace(-10, 10, 100)\n",
    "\n",
    "# Applying the sine function to the one-dimensional tensor \n",
    "y = torch.sin(x) \n",
    "\n",
    "# print the output elements of torch.sin() \n",
    "print('The elements inside the y tensor are: ') \n",
    "print(y)\n",
    "\n",
    "# Plotting \n",
    "plt.plot(x, y, color='blue', marker=\"+\") \n",
    "plt.title(\"torch.sin() tensor\") \n",
    "plt.xlabel(\"x-axis\") \n",
    "plt.ylabel(\"y-axis\")\n",
    "plt.grid() \n",
    "plt.show()"
   ]
  },
  {
   "cell_type": "markdown",
   "metadata": {
    "colab_type": "text",
    "id": "pZ6JWixjcSCu"
   },
   "source": [
    "Now let's see a common error in the sintax of `torch.sin()`"
   ]
  },
  {
   "cell_type": "code",
   "execution_count": null,
   "metadata": {
    "colab": {
     "base_uri": "https://localhost:8080/",
     "height": 231
    },
    "colab_type": "code",
    "id": "-pvX6zg0I92X",
    "outputId": "c783786f-4887-43dc-eff2-2bd22c1edc03"
   },
   "outputs": [],
   "source": [
    "# x is an integer \n",
    "x = 1\n",
    "\n",
    "# calculate the sine of x using torch.sin()\n",
    "y = torch.sin(x)\n",
    "\n",
    "# print the output of sin(x)\n",
    "print(y)"
   ]
  },
  {
   "cell_type": "markdown",
   "metadata": {
    "colab_type": "text",
    "id": "t3HTSEvEc6Rk"
   },
   "source": [
    "Remember that `torch.sin()` requires a tensor as input, for instance the solution to fix this error is to declare x as `x = torch.Tensor(1)`\n",
    "\n",
    "\n"
   ]
  },
  {
   "cell_type": "markdown",
   "metadata": {
    "colab_type": "text",
    "id": "GXYEKvkud-X7"
   },
   "source": [
    "## Function 3 - `torch.tan(input_tensor)`\n",
    "\n",
    "This function returns the tangent tensor of the elements contained in the input_tensor "
   ]
  },
  {
   "cell_type": "code",
   "execution_count": null,
   "metadata": {
    "colab": {
     "base_uri": "https://localhost:8080/",
     "height": 102
    },
    "colab_type": "code",
    "id": "t2vsGA67iGaN",
    "outputId": "b5d999f9-17d3-4a43-d9db-79b3f0268a49"
   },
   "outputs": [],
   "source": [
    "# Example 1 ...\n",
    "# x is a tensor of size 10 and type 'float32'\n",
    "x = torch.Tensor([10., 20, 30, 40, 50, 60, 70, 80, 90, 100])\n",
    "\n",
    "# print the x tensor and its dtype\n",
    "print('x is a tensor type: ', x.dtype)\n",
    "print(x)\n",
    "\n",
    "# apply torch.sin() to the x tensor\n",
    "y = torch.tan(x)\n",
    "\n",
    "# print the output of the tensor y\n",
    "print('The tangent of the tensor x is: ')\n",
    "print(y)"
   ]
  },
  {
   "cell_type": "markdown",
   "metadata": {
    "colab_type": "text",
    "id": "vcelcGi8jm-X"
   },
   "source": [
    "Notice that the x tensor was declared with only one value as float (10.) and the rest of the elements as integers. \n",
    "\n",
    "Nevertheless, the x tensor was declared as 'float32'. This is becuase it is necesary to have only one value as float to create the whole tensor as float.\n",
    "\n",
    "Let's see how we can use it to plot a nice tangent wave."
   ]
  },
  {
   "cell_type": "code",
   "execution_count": null,
   "metadata": {
    "colab": {
     "base_uri": "https://localhost:8080/",
     "height": 652
    },
    "colab_type": "code",
    "id": "jRzb28CEjk8B",
    "outputId": "95844ef8-0e10-41c5-c246-35c9e423b380"
   },
   "outputs": [],
   "source": [
    "# Let's create a one-dimensional tensor with torch.linespace(starts, ends, size)\n",
    "x = torch.linspace(-10, 10, 100)\n",
    "\n",
    "# Applying the tan function to the one-dimensional tensor \n",
    "y = torch.tan(x) \n",
    "\n",
    "# print the output elements of torch.sin() \n",
    "print('The elements inside the y tensor are: ') \n",
    "print(y)\n",
    "\n",
    "# Plotting \n",
    "plt.plot(x, y, color='green', marker=\"o\") \n",
    "plt.title(\"torch.sin() tensor\") \n",
    "plt.xlabel(\"x-axis\") \n",
    "plt.ylabel(\"y-axis\")\n",
    "plt.grid() \n",
    "plt.show()"
   ]
  },
  {
   "cell_type": "markdown",
   "metadata": {
    "colab_type": "text",
    "id": "Yfern5_Tjn3w"
   },
   "source": [
    "Now let's see a common error in the sintax of `torch.tan()`"
   ]
  },
  {
   "cell_type": "code",
   "execution_count": null,
   "metadata": {
    "colab": {
     "base_uri": "https://localhost:8080/",
     "height": 231
    },
    "colab_type": "code",
    "id": "Y_pHmLbnjnhD",
    "outputId": "7c64c8b2-04de-4a2d-f63e-0ceba334e348"
   },
   "outputs": [],
   "source": [
    "# x is an integer \n",
    "x = 1\n",
    "\n",
    "# calculate the sine of x using torch.tan()\n",
    "y = torch.tan(x)\n",
    "\n",
    "# print the output of tan(x)\n",
    "print(y)"
   ]
  },
  {
   "cell_type": "markdown",
   "metadata": {
    "colab_type": "text",
    "id": "jL_cp-5xkdqf"
   },
   "source": [
    "Remember that `torch.tan()` requires a tensor as input, for instance the solution to fix this error is to declare x as `x = torch.Tensor(1)`\n",
    "\n",
    "\n"
   ]
  },
  {
   "cell_type": "markdown",
   "metadata": {
    "colab_type": "text",
    "id": "LPq7lNTkklxo"
   },
   "source": [
    "## Function 4 - `torch.acos(input_tensor)`\n",
    "\n",
    "This function returns the arccosine tensor of the elements contained in the input_tensor "
   ]
  },
  {
   "cell_type": "code",
   "execution_count": null,
   "metadata": {
    "colab": {
     "base_uri": "https://localhost:8080/",
     "height": 85
    },
    "colab_type": "code",
    "id": "yw4ELXx5loVL",
    "outputId": "c3c3226a-83b4-4f18-fba5-9918fd7d02a0"
   },
   "outputs": [],
   "source": [
    "# Example 1 ...\n",
    "# x is a tensor of size 10 and type 'float32'\n",
    "x = torch.Tensor([10., 20, 30, 40, 50, 60, 70, 80, 90, 100])\n",
    "\n",
    "# print the x tensor and its dtype\n",
    "print('x is a tensor type: ', x.dtype)\n",
    "print(x)\n",
    "\n",
    "# apply torch.sin() to the x tensor\n",
    "y = torch.acos(x)\n",
    "\n",
    "# print the output of the tensor sin_x\n",
    "print('The arccosine of the tensor x is: ')\n",
    "print(y)"
   ]
  },
  {
   "cell_type": "markdown",
   "metadata": {
    "colab_type": "text",
    "id": "2GIcFrZqlp5p"
   },
   "source": [
    "Notice that the x tensor was declared with only one value as float (10.) and the rest of the elements as integers. \n",
    "\n",
    "Nevertheless, the x tensor was declared as 'float32'. This is becuase it is necesary to have only one value as float to create the whole tensor as float.\n",
    "\n",
    "Let's see how we can use it to plot a nice arccosine wave."
   ]
  },
  {
   "cell_type": "code",
   "execution_count": null,
   "metadata": {
    "colab": {
     "base_uri": "https://localhost:8080/",
     "height": 516
    },
    "colab_type": "code",
    "id": "bt_pFznWlqPt",
    "outputId": "4a3e9994-99dc-452a-c690-40a0761ea80e"
   },
   "outputs": [],
   "source": [
    "# Let's create a one-dimensional tensor  with torch.linespace(starts, ends, size)\n",
    "x = torch.linspace(-10, 10, 100)\n",
    "\n",
    "# Applying the sine function to the one-dimensional tensor  \n",
    "y = torch.acos(x) \n",
    "\n",
    "# print the output elements of torch.acos() \n",
    "print('The elements inside the y tensor are: ') \n",
    "print(y)\n",
    "\n",
    "# Plotting \n",
    "plt.plot(x, y, color='red', marker=\"x\") \n",
    "plt.title(\"torch.sin() tensor\") \n",
    "plt.xlabel(\"x-axis\") \n",
    "plt.ylabel(\"y-axis\")\n",
    "plt.grid() \n",
    "plt.show()"
   ]
  },
  {
   "cell_type": "markdown",
   "metadata": {
    "colab_type": "text",
    "id": "aAGPuCPelqmY"
   },
   "source": [
    "Now let's see a common error in the sintax of `torch.acos()`"
   ]
  },
  {
   "cell_type": "code",
   "execution_count": null,
   "metadata": {
    "colab": {
     "base_uri": "https://localhost:8080/",
     "height": 231
    },
    "colab_type": "code",
    "id": "o7x6g2z5lrBe",
    "outputId": "d3e965a7-7a39-4d9b-d1cf-020698f844d1"
   },
   "outputs": [],
   "source": [
    "# x is an integer \n",
    "x = 1\n",
    "\n",
    "# calculate the sine of x using torch.acos()\n",
    "y = torch.acos(x)\n",
    "\n",
    "# print the output of acos(x)\n",
    "print(y)"
   ]
  },
  {
   "cell_type": "markdown",
   "metadata": {
    "colab_type": "text",
    "id": "fcS7vfuAls1k"
   },
   "source": [
    "Remember that torch.acos() requires a tensor as input, for instance the solution to fix this error is to declare x as x = torch.Tensor(1)"
   ]
  },
  {
   "cell_type": "markdown",
   "metadata": {
    "colab_type": "text",
    "id": "0CqwgvV-kqJc"
   },
   "source": [
    "## Function 5 - `torch.asin(input_tensor)`\n",
    "\n",
    "This function returns the arcsine tensor of the elements contained in the input_tensor "
   ]
  },
  {
   "cell_type": "code",
   "execution_count": null,
   "metadata": {
    "colab": {
     "base_uri": "https://localhost:8080/",
     "height": 85
    },
    "colab_type": "code",
    "id": "vbvWlT0llovi",
    "outputId": "c887523f-ae7f-4be8-aa85-e77cb94de968"
   },
   "outputs": [],
   "source": [
    "# Example 1 ...\n",
    "# x is a tensor of size 10 and type 'float32'\n",
    "x = torch.Tensor([10., 20, 30, 40, 50, 60, 70, 80, 90, 100])\n",
    "\n",
    "# print the x tensor and its dtype\n",
    "print('x is a tensor type: ', x.dtype)\n",
    "print(x)\n",
    "\n",
    "# apply torch.sin() to the x tensor\n",
    "y = torch.asin(x)\n",
    "\n",
    "# print the output of the tensor sin_x\n",
    "print('The arcsine of the tensor x is: ')\n",
    "print(y)"
   ]
  },
  {
   "cell_type": "markdown",
   "metadata": {
    "colab_type": "text",
    "id": "fIlr18gmlulH"
   },
   "source": [
    "Notice that the x tensor was declared with only one value as float (10.) and the rest of the elements as integers. \n",
    "\n",
    "Nevertheless, the x tensor was declared as 'float32'. This is becuase it is necesary to have only one value as float to create the whole tensor as float.\n",
    "\n",
    "Let's see how we can use it to plot a nice arcsine wave."
   ]
  },
  {
   "cell_type": "code",
   "execution_count": null,
   "metadata": {
    "colab": {
     "base_uri": "https://localhost:8080/",
     "height": 431
    },
    "colab_type": "code",
    "id": "vA71jcJzlu9I",
    "outputId": "35347092-1a74-4464-fe32-5d01b4c995bb"
   },
   "outputs": [],
   "source": [
    "# Let's create a one-dimensional tensor  with torch.linespace(starts, ends, size)\n",
    "x = torch.linspace(-1, 1, 50)\n",
    "\n",
    "# Applying the sine function to the one-dimensional tensor  \n",
    "y = torch.asin(x) \n",
    "\n",
    "# print the output elements of torch.asin() \n",
    "print('The elements inside the y tensor are: ') \n",
    "print(y)\n",
    "\n",
    "# Plotting \n",
    "plt.plot(x, y, color='blue', marker=\"+\") \n",
    "plt.title(\"torch.sin() tensor\") \n",
    "plt.xlabel(\"x-axis\") \n",
    "plt.ylabel(\"y-axis\")\n",
    "plt.grid() \n",
    "plt.show()"
   ]
  },
  {
   "cell_type": "markdown",
   "metadata": {
    "colab_type": "text",
    "id": "ts5Ru35clvZT"
   },
   "source": [
    "Now let's see a common error in the sintax of `torch.asin()`"
   ]
  },
  {
   "cell_type": "code",
   "execution_count": null,
   "metadata": {
    "colab": {},
    "colab_type": "code",
    "id": "RIf5vYKDlwj_"
   },
   "outputs": [],
   "source": [
    "# x is an integer \n",
    "x = 1\n",
    "\n",
    "# calculate the sine of x using torch.asin()\n",
    "y = torch.asin(x)\n",
    "\n",
    "# print the output of asin(x)\n",
    "print(y)"
   ]
  },
  {
   "cell_type": "markdown",
   "metadata": {
    "colab_type": "text",
    "id": "i6cfmLD6lxM_"
   },
   "source": [
    "Remember that torch.asin() requires a tensor as input, for instance the solution to fix this error is to declare x as x = torch.Tensor(1)"
   ]
  },
  {
   "cell_type": "markdown",
   "metadata": {
    "colab_type": "text",
    "id": "EISYHN2Pktqm"
   },
   "source": [
    "## Function 6 - `torch.atan(input_tensor)`\n",
    "\n",
    "This function returns the arctangent tensor of the elements contained in the input_tensor "
   ]
  },
  {
   "cell_type": "code",
   "execution_count": null,
   "metadata": {
    "colab": {
     "base_uri": "https://localhost:8080/",
     "height": 102
    },
    "colab_type": "code",
    "id": "UfqLrKk7kWgv",
    "outputId": "06e4bbf2-1b70-45e5-a4f8-87838334d356"
   },
   "outputs": [],
   "source": [
    "# Example 1 ...\n",
    "# x is a tensor of size 10 and type 'float32'\n",
    "x = torch.Tensor([10., 20, 30, 40, 50, 60, 70, 80, 90, 100])\n",
    "\n",
    "# print the x tensor and its dtype\n",
    "print('x is a tensor type: ', x.dtype)\n",
    "print(x)\n",
    "\n",
    "# apply torch.sin() to the x tensor\n",
    "y = torch.atan(x)\n",
    "\n",
    "# print the output of the tensor sin_x\n",
    "print('The arctangent of the tensor x is: ')\n",
    "print(y)"
   ]
  },
  {
   "cell_type": "markdown",
   "metadata": {
    "colab_type": "text",
    "id": "sG4NYiItlyJF"
   },
   "source": [
    "Notice that the x tensor was declared with only one value as float (10.) and the rest of the elements as integers. \n",
    "\n",
    "Nevertheless, the x tensor was declared as 'float32'. This is becuase it is necesary to have only one value as float to create the whole tensor as float.\n",
    "\n",
    "Let's see how we can use it to plot a nice arctangent wave."
   ]
  },
  {
   "cell_type": "code",
   "execution_count": null,
   "metadata": {
    "colab": {
     "base_uri": "https://localhost:8080/",
     "height": 533
    },
    "colab_type": "code",
    "id": "uFhnKF5clygl",
    "outputId": "64d91fa5-ff22-4661-9360-cf8fd70f25f1"
   },
   "outputs": [],
   "source": [
    "# Let's create a one-dimensional tensor  with torch.linespace(starts, ends, size)\n",
    "x = torch.linspace(-10, 10, 100)\n",
    "\n",
    "# Applying the atan function to the one-dimensional tensor  \n",
    "y = torch.atan(x) \n",
    "\n",
    "# print the output elements of torch.atan() \n",
    "print('The elements inside the y tensor are: ') \n",
    "print(y)\n",
    "\n",
    "# Plotting \n",
    "plt.plot(x, y, color='green', marker=\"o\") \n",
    "plt.title(\"torch.sin() tensor\") \n",
    "plt.xlabel(\"x-axis\") \n",
    "plt.ylabel(\"y-axis\")\n",
    "plt.grid() \n",
    "plt.show()"
   ]
  },
  {
   "cell_type": "markdown",
   "metadata": {
    "colab_type": "text",
    "id": "YDbmdlxDlznU"
   },
   "source": [
    "Now let's see a common error in the sintax of `torch.atan()`"
   ]
  },
  {
   "cell_type": "code",
   "execution_count": null,
   "metadata": {
    "colab": {},
    "colab_type": "code",
    "id": "6IDFxqEQlzLx"
   },
   "outputs": [],
   "source": [
    "# x is an integer \n",
    "x = 1\n",
    "\n",
    "# calculate the sine of x using torch.atan()\n",
    "y = torch.atan(x)\n",
    "\n",
    "# print the output of atan(x)\n",
    "print(y)"
   ]
  },
  {
   "cell_type": "markdown",
   "metadata": {
    "colab_type": "text",
    "id": "fF3jutkely1k"
   },
   "source": [
    "Remember that torch.atan() requires a tensor as input, for instance the solution to fix this error is to declare x as x = torch.Tensor(1)"
   ]
  },
  {
   "cell_type": "markdown",
   "metadata": {
    "colab_type": "text",
    "id": "AgFndJmmoVui"
   },
   "source": [
    "# Conclusion\n",
    "\n",
    "In this notebook covered six of the most common trigonometrical functions and their implementation in PyTorch.\n",
    "\n",
    "It also shows how to create one-dimensional tensors using `torch.linspace()`, as well as how to manage some common sintax mistakes."
   ]
  },
  {
   "cell_type": "markdown",
   "metadata": {
    "colab_type": "text",
    "id": "boJXTdCVpMig"
   },
   "source": [
    "# Reference Links\n",
    "\n",
    "\n",
    "*   Official documentation for `torch.Tensor`:\n",
    "https://pytorch.org/docs/stable/tensors.html\n",
    "*   Official documentation for `torch.linspace()`:\n",
    "https://pytorch.org/docs/master/generated/torch.linspace.html\n",
    "\n"
   ]
  },
  {
   "cell_type": "code",
   "execution_count": null,
   "metadata": {
    "colab": {},
    "colab_type": "code",
    "id": "QnzZS4Stp6ZF"
   },
   "outputs": [],
   "source": [
    "!pip install jovian --upgrade --quiet"
   ]
  },
  {
   "cell_type": "code",
   "execution_count": null,
   "metadata": {
    "colab": {},
    "colab_type": "code",
    "id": "kMd0KLAEp7QO"
   },
   "outputs": [],
   "source": [
    "import jovian"
   ]
  },
  {
   "cell_type": "code",
   "execution_count": null,
   "metadata": {
    "colab": {},
    "colab_type": "code",
    "id": "Kim84z0gp6-G"
   },
   "outputs": [],
   "source": [
    "jovian.commit()"
   ]
  }
 ],
 "metadata": {
  "colab": {
   "collapsed_sections": [],
   "name": "01 - Trigonometric Operators in PyTorch.ipynb",
   "provenance": []
  },
  "kernelspec": {
   "display_name": "Python 3",
   "language": "python",
   "name": "python3"
  },
  "language_info": {
   "codemirror_mode": {
    "name": "ipython",
    "version": 3
   },
   "file_extension": ".py",
   "mimetype": "text/x-python",
   "name": "python",
   "nbconvert_exporter": "python",
   "pygments_lexer": "ipython3",
   "version": "3.7.6"
  }
 },
 "nbformat": 4,
 "nbformat_minor": 1
}
